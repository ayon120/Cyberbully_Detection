{
 "cells": [
  {
   "cell_type": "code",
   "execution_count": 1,
   "metadata": {},
   "outputs": [
    {
     "name": "stderr",
     "output_type": "stream",
     "text": [
      "C:\\Users\\Richie Rozario\\Anaconda3\\lib\\site-packages\\h5py\\__init__.py:36: FutureWarning: Conversion of the second argument of issubdtype from `float` to `np.floating` is deprecated. In future, it will be treated as `np.float64 == np.dtype(float).type`.\n",
      "  from ._conv import register_converters as _register_converters\n"
     ]
    }
   ],
   "source": [
    "from __future__ import absolute_import, division, print_function\n",
    "\n",
    "import tensorflow as tf\n",
    "from tensorflow import keras\n",
    "\n",
    "from sklearn.feature_extraction.text import CountVectorizer, TfidfVectorizer, HashingVectorizer"
   ]
  },
  {
   "cell_type": "code",
   "execution_count": 2,
   "metadata": {},
   "outputs": [],
   "source": [
    "from nltk.tokenize import word_tokenize\n",
    "from nltk.corpus import stopwords\n",
    "from nltk.stem import PorterStemmer\n",
    "from nltk.stem import SnowballStemmer\n",
    "from nltk.stem import WordNetLemmatizer\n",
    "from textblob import TextBlob\n",
    "import matplotlib.pyplot as plt\n",
    "from wordcloud import WordCloud\n",
    "from math import log, sqrt\n",
    "import pandas as pd\n",
    "import numpy as np\n",
    "import re\n",
    "%matplotlib inline"
   ]
  },
  {
   "cell_type": "code",
   "execution_count": 3,
   "metadata": {},
   "outputs": [],
   "source": [
    "import pandas as pd\n",
    "tweet = pd.read_csv(\"h.csv\", encoding=\"ISO-8859-1\")"
   ]
  },
  {
   "cell_type": "code",
   "execution_count": 4,
   "metadata": {},
   "outputs": [
    {
     "data": {
      "text/plain": [
       "(19001, 4)"
      ]
     },
     "execution_count": 4,
     "metadata": {},
     "output_type": "execute_result"
    }
   ],
   "source": [
    "tweet.shape"
   ]
  },
  {
   "cell_type": "code",
   "execution_count": 5,
   "metadata": {},
   "outputs": [
    {
     "data": {
      "text/html": [
       "<div>\n",
       "<style scoped>\n",
       "    .dataframe tbody tr th:only-of-type {\n",
       "        vertical-align: middle;\n",
       "    }\n",
       "\n",
       "    .dataframe tbody tr th {\n",
       "        vertical-align: top;\n",
       "    }\n",
       "\n",
       "    .dataframe thead th {\n",
       "        text-align: right;\n",
       "    }\n",
       "</style>\n",
       "<table border=\"1\" class=\"dataframe\">\n",
       "  <thead>\n",
       "    <tr style=\"text-align: right;\">\n",
       "      <th></th>\n",
       "      <th>content</th>\n",
       "      <th>annotation__notes</th>\n",
       "      <th>annotation__label__-</th>\n",
       "      <th>extras</th>\n",
       "    </tr>\n",
       "  </thead>\n",
       "  <tbody>\n",
       "    <tr>\n",
       "      <th>0</th>\n",
       "      <td>I hate .... you .... zzzzzzzz</td>\n",
       "      <td>NaN</td>\n",
       "      <td>1</td>\n",
       "      <td>NaN</td>\n",
       "    </tr>\n",
       "    <tr>\n",
       "      <th>1</th>\n",
       "      <td>Hey... Stop twitting and post a damn blog!</td>\n",
       "      <td>NaN</td>\n",
       "      <td>1</td>\n",
       "      <td>NaN</td>\n",
       "    </tr>\n",
       "    <tr>\n",
       "      <th>2</th>\n",
       "      <td>http://twitpic.com/qtt0 - O.O bingo is waaaaay...</td>\n",
       "      <td>NaN</td>\n",
       "      <td>1</td>\n",
       "      <td>NaN</td>\n",
       "    </tr>\n",
       "    <tr>\n",
       "      <th>3</th>\n",
       "      <td>xD! i know. hmm ....i wonder how it feels like...</td>\n",
       "      <td>NaN</td>\n",
       "      <td>1</td>\n",
       "      <td>NaN</td>\n",
       "    </tr>\n",
       "    <tr>\n",
       "      <th>4</th>\n",
       "      <td>oh youuuu little bitch. Just keep your winter ...</td>\n",
       "      <td>NaN</td>\n",
       "      <td>1</td>\n",
       "      <td>NaN</td>\n",
       "    </tr>\n",
       "    <tr>\n",
       "      <th>5</th>\n",
       "      <td>not to sound amazingly  astoundingly gay (not ...</td>\n",
       "      <td>NaN</td>\n",
       "      <td>1</td>\n",
       "      <td>NaN</td>\n",
       "    </tr>\n",
       "    <tr>\n",
       "      <th>6</th>\n",
       "      <td>as much as i hate auto-DM's  i also check out ...</td>\n",
       "      <td>NaN</td>\n",
       "      <td>1</td>\n",
       "      <td>NaN</td>\n",
       "    </tr>\n",
       "    <tr>\n",
       "      <th>7</th>\n",
       "      <td>I'm blocking you because you have no value. Go...</td>\n",
       "      <td>NaN</td>\n",
       "      <td>1</td>\n",
       "      <td>NaN</td>\n",
       "    </tr>\n",
       "    <tr>\n",
       "      <th>8</th>\n",
       "      <td>If only Edward and Bella were slightly less em...</td>\n",
       "      <td>NaN</td>\n",
       "      <td>1</td>\n",
       "      <td>NaN</td>\n",
       "    </tr>\n",
       "    <tr>\n",
       "      <th>9</th>\n",
       "      <td>@scanman and @asthepumpturns. Yeah  I am a mea...</td>\n",
       "      <td>NaN</td>\n",
       "      <td>1</td>\n",
       "      <td>NaN</td>\n",
       "    </tr>\n",
       "  </tbody>\n",
       "</table>\n",
       "</div>"
      ],
      "text/plain": [
       "                                             content  annotation__notes  \\\n",
       "0                      I hate .... you .... zzzzzzzz                NaN   \n",
       "1         Hey... Stop twitting and post a damn blog!                NaN   \n",
       "2  http://twitpic.com/qtt0 - O.O bingo is waaaaay...                NaN   \n",
       "3  xD! i know. hmm ....i wonder how it feels like...                NaN   \n",
       "4  oh youuuu little bitch. Just keep your winter ...                NaN   \n",
       "5  not to sound amazingly  astoundingly gay (not ...                NaN   \n",
       "6  as much as i hate auto-DM's  i also check out ...                NaN   \n",
       "7  I'm blocking you because you have no value. Go...                NaN   \n",
       "8  If only Edward and Bella were slightly less em...                NaN   \n",
       "9  @scanman and @asthepumpturns. Yeah  I am a mea...                NaN   \n",
       "\n",
       "   annotation__label__-  extras  \n",
       "0                     1     NaN  \n",
       "1                     1     NaN  \n",
       "2                     1     NaN  \n",
       "3                     1     NaN  \n",
       "4                     1     NaN  \n",
       "5                     1     NaN  \n",
       "6                     1     NaN  \n",
       "7                     1     NaN  \n",
       "8                     1     NaN  \n",
       "9                     1     NaN  "
      ]
     },
     "execution_count": 5,
     "metadata": {},
     "output_type": "execute_result"
    }
   ],
   "source": [
    "tweet.head(10)"
   ]
  },
  {
   "cell_type": "code",
   "execution_count": 6,
   "metadata": {},
   "outputs": [
    {
     "data": {
      "text/html": [
       "<div>\n",
       "<style scoped>\n",
       "    .dataframe tbody tr th:only-of-type {\n",
       "        vertical-align: middle;\n",
       "    }\n",
       "\n",
       "    .dataframe tbody tr th {\n",
       "        vertical-align: top;\n",
       "    }\n",
       "\n",
       "    .dataframe thead th {\n",
       "        text-align: right;\n",
       "    }\n",
       "</style>\n",
       "<table border=\"1\" class=\"dataframe\">\n",
       "  <thead>\n",
       "    <tr style=\"text-align: right;\">\n",
       "      <th></th>\n",
       "      <th>tweet</th>\n",
       "      <th>label</th>\n",
       "    </tr>\n",
       "  </thead>\n",
       "  <tbody>\n",
       "    <tr>\n",
       "      <th>0</th>\n",
       "      <td>I hate .... you .... zzzzzzzz</td>\n",
       "      <td>1</td>\n",
       "    </tr>\n",
       "    <tr>\n",
       "      <th>1</th>\n",
       "      <td>Hey... Stop twitting and post a damn blog!</td>\n",
       "      <td>1</td>\n",
       "    </tr>\n",
       "    <tr>\n",
       "      <th>2</th>\n",
       "      <td>http://twitpic.com/qtt0 - O.O bingo is waaaaay...</td>\n",
       "      <td>1</td>\n",
       "    </tr>\n",
       "    <tr>\n",
       "      <th>3</th>\n",
       "      <td>xD! i know. hmm ....i wonder how it feels like...</td>\n",
       "      <td>1</td>\n",
       "    </tr>\n",
       "    <tr>\n",
       "      <th>4</th>\n",
       "      <td>oh youuuu little bitch. Just keep your winter ...</td>\n",
       "      <td>1</td>\n",
       "    </tr>\n",
       "    <tr>\n",
       "      <th>5</th>\n",
       "      <td>not to sound amazingly  astoundingly gay (not ...</td>\n",
       "      <td>1</td>\n",
       "    </tr>\n",
       "    <tr>\n",
       "      <th>6</th>\n",
       "      <td>as much as i hate auto-DM's  i also check out ...</td>\n",
       "      <td>1</td>\n",
       "    </tr>\n",
       "    <tr>\n",
       "      <th>7</th>\n",
       "      <td>I'm blocking you because you have no value. Go...</td>\n",
       "      <td>1</td>\n",
       "    </tr>\n",
       "    <tr>\n",
       "      <th>8</th>\n",
       "      <td>If only Edward and Bella were slightly less em...</td>\n",
       "      <td>1</td>\n",
       "    </tr>\n",
       "    <tr>\n",
       "      <th>9</th>\n",
       "      <td>@scanman and @asthepumpturns. Yeah  I am a mea...</td>\n",
       "      <td>1</td>\n",
       "    </tr>\n",
       "  </tbody>\n",
       "</table>\n",
       "</div>"
      ],
      "text/plain": [
       "                                               tweet  label\n",
       "0                      I hate .... you .... zzzzzzzz      1\n",
       "1         Hey... Stop twitting and post a damn blog!      1\n",
       "2  http://twitpic.com/qtt0 - O.O bingo is waaaaay...      1\n",
       "3  xD! i know. hmm ....i wonder how it feels like...      1\n",
       "4  oh youuuu little bitch. Just keep your winter ...      1\n",
       "5  not to sound amazingly  astoundingly gay (not ...      1\n",
       "6  as much as i hate auto-DM's  i also check out ...      1\n",
       "7  I'm blocking you because you have no value. Go...      1\n",
       "8  If only Edward and Bella were slightly less em...      1\n",
       "9  @scanman and @asthepumpturns. Yeah  I am a mea...      1"
      ]
     },
     "execution_count": 6,
     "metadata": {},
     "output_type": "execute_result"
    }
   ],
   "source": [
    "tweet.rename(columns = {\"annotation__label__-\": \"label\", \"content\": \"tweet\"}, inplace = True)\n",
    "tweet.drop(['annotation__notes'], axis = 1, inplace = True)\n",
    "tweet.drop(['extras'], axis = 1, inplace = True)\n",
    "tweet.head(10)"
   ]
  },
  {
   "cell_type": "code",
   "execution_count": 7,
   "metadata": {},
   "outputs": [
    {
     "data": {
      "text/plain": [
       "0    11162\n",
       "1     7839\n",
       "Name: label, dtype: int64"
      ]
     },
     "execution_count": 7,
     "metadata": {},
     "output_type": "execute_result"
    }
   ],
   "source": [
    "tweet.label.value_counts()"
   ]
  },
  {
   "cell_type": "code",
   "execution_count": 8,
   "metadata": {},
   "outputs": [
    {
     "data": {
      "text/plain": [
       "0                        i hate .... you .... zzzzzzzz\n",
       "1           hey... stop twitting and post a damn blog!\n",
       "2    http://twitpic.com/qtt0 - o.o bingo is waaaaay...\n",
       "3    xd! i know. hmm ....i wonder how it feels like...\n",
       "4    oh youuuu little bitch. just keep your winter ...\n",
       "Name: tweet, dtype: object"
      ]
     },
     "execution_count": 8,
     "metadata": {},
     "output_type": "execute_result"
    }
   ],
   "source": [
    "tweet['tweet'] = tweet['tweet'].apply(lambda x: \" \".join(x.lower() for x in x.split()))\n",
    "tweet['tweet'].head()"
   ]
  },
  {
   "cell_type": "code",
   "execution_count": 9,
   "metadata": {},
   "outputs": [
    {
     "data": {
      "text/plain": [
       "0                                i hate  you  zzzzzzzz\n",
       "1               hey stop twitting and post a damn blog\n",
       "2    httptwitpiccomqtt0  oo bingo is waaaaay to har...\n",
       "3    xd i know hmm i wonder how it feels like to fu...\n",
       "4    oh youuuu little bitch just keep your winter g...\n",
       "Name: tweet, dtype: object"
      ]
     },
     "execution_count": 9,
     "metadata": {},
     "output_type": "execute_result"
    }
   ],
   "source": [
    "tweet['tweet'] = tweet['tweet'].str.replace('[^\\w\\s]','')\n",
    "tweet['tweet'] = tweet['tweet'].str.replace(r'_','')\n",
    "tweet['tweet'].head()"
   ]
  },
  {
   "cell_type": "code",
   "execution_count": 10,
   "metadata": {},
   "outputs": [
    {
     "data": {
      "text/html": [
       "<div>\n",
       "<style scoped>\n",
       "    .dataframe tbody tr th:only-of-type {\n",
       "        vertical-align: middle;\n",
       "    }\n",
       "\n",
       "    .dataframe tbody tr th {\n",
       "        vertical-align: top;\n",
       "    }\n",
       "\n",
       "    .dataframe thead th {\n",
       "        text-align: right;\n",
       "    }\n",
       "</style>\n",
       "<table border=\"1\" class=\"dataframe\">\n",
       "  <thead>\n",
       "    <tr style=\"text-align: right;\">\n",
       "      <th></th>\n",
       "      <th>tweet</th>\n",
       "      <th>numerics</th>\n",
       "    </tr>\n",
       "  </thead>\n",
       "  <tbody>\n",
       "    <tr>\n",
       "      <th>0</th>\n",
       "      <td>i hate  you  zzzzzzzz</td>\n",
       "      <td>0</td>\n",
       "    </tr>\n",
       "    <tr>\n",
       "      <th>1</th>\n",
       "      <td>hey stop twitting and post a damn blog</td>\n",
       "      <td>0</td>\n",
       "    </tr>\n",
       "    <tr>\n",
       "      <th>2</th>\n",
       "      <td>httptwitpiccomqtt0  oo bingo is waaaaay to har...</td>\n",
       "      <td>0</td>\n",
       "    </tr>\n",
       "    <tr>\n",
       "      <th>3</th>\n",
       "      <td>xd i know hmm i wonder how it feels like to fu...</td>\n",
       "      <td>0</td>\n",
       "    </tr>\n",
       "    <tr>\n",
       "      <th>4</th>\n",
       "      <td>oh youuuu little bitch just keep your winter g...</td>\n",
       "      <td>0</td>\n",
       "    </tr>\n",
       "    <tr>\n",
       "      <th>5</th>\n",
       "      <td>not to sound amazingly astoundingly gay not th...</td>\n",
       "      <td>0</td>\n",
       "    </tr>\n",
       "    <tr>\n",
       "      <th>6</th>\n",
       "      <td>as much as i hate autodms i also check out lin...</td>\n",
       "      <td>0</td>\n",
       "    </tr>\n",
       "    <tr>\n",
       "      <th>7</th>\n",
       "      <td>im blocking you because you have no value go b...</td>\n",
       "      <td>0</td>\n",
       "    </tr>\n",
       "    <tr>\n",
       "      <th>8</th>\n",
       "      <td>if only edward and bella were slightly less emo</td>\n",
       "      <td>0</td>\n",
       "    </tr>\n",
       "    <tr>\n",
       "      <th>9</th>\n",
       "      <td>scanman and asthepumpturns yeah i am a mean me...</td>\n",
       "      <td>0</td>\n",
       "    </tr>\n",
       "  </tbody>\n",
       "</table>\n",
       "</div>"
      ],
      "text/plain": [
       "                                               tweet  numerics\n",
       "0                              i hate  you  zzzzzzzz         0\n",
       "1             hey stop twitting and post a damn blog         0\n",
       "2  httptwitpiccomqtt0  oo bingo is waaaaay to har...         0\n",
       "3  xd i know hmm i wonder how it feels like to fu...         0\n",
       "4  oh youuuu little bitch just keep your winter g...         0\n",
       "5  not to sound amazingly astoundingly gay not th...         0\n",
       "6  as much as i hate autodms i also check out lin...         0\n",
       "7  im blocking you because you have no value go b...         0\n",
       "8   if only edward and bella were slightly less emo          0\n",
       "9  scanman and asthepumpturns yeah i am a mean me...         0"
      ]
     },
     "execution_count": 10,
     "metadata": {},
     "output_type": "execute_result"
    }
   ],
   "source": [
    "tweet['numerics'] = tweet['tweet'].apply(lambda x: len([x for x in x.split() if x.isdigit()]))\n",
    "tweet[['tweet','numerics']].head(10)"
   ]
  },
  {
   "cell_type": "code",
   "execution_count": 11,
   "metadata": {},
   "outputs": [
    {
     "data": {
      "text/plain": [
       "0                                i hate  you  zzzzzzzz\n",
       "1               hey stop twitting and post a damn blog\n",
       "2    httptwitpiccomqtt  oo bingo is waaaaay to hard...\n",
       "3    xd i know hmm i wonder how it feels like to fu...\n",
       "4    oh youuuu little bitch just keep your winter g...\n",
       "Name: tweet, dtype: object"
      ]
     },
     "execution_count": 11,
     "metadata": {},
     "output_type": "execute_result"
    }
   ],
   "source": [
    "tweet['tweet'] = tweet['tweet'].str.replace('[\\d+]','')\n",
    "tweet['tweet'].head()"
   ]
  },
  {
   "cell_type": "code",
   "execution_count": 12,
   "metadata": {},
   "outputs": [
    {
     "data": {
      "text/plain": [
       "0                                        hate zzzzzzzz\n",
       "1                     hey stop twitting post damn blog\n",
       "2    httptwitpiccomqtt oo bingo waaaaay hard hate w...\n",
       "3    xd know hmm wonder feels like fuck bingo hard ...\n",
       "4    oh youuuu little bitch keep winter gloves away...\n",
       "Name: tweet, dtype: object"
      ]
     },
     "execution_count": 12,
     "metadata": {},
     "output_type": "execute_result"
    }
   ],
   "source": [
    "stop = stopwords.words('english')\n",
    "tweet['tweet'] = tweet['tweet'].apply(lambda x: \" \".join(x for x in x.split() if x not in stop))\n",
    "tweet['tweet'].head()"
   ]
  },
  {
   "cell_type": "code",
   "execution_count": 13,
   "metadata": {},
   "outputs": [
    {
     "data": {
      "text/plain": [
       "0                                        hate zzzzzzzz\n",
       "1                     hey stop twitting post damn blog\n",
       "2    httptwitpiccomqtt bingo waaaaay hard hate wann...\n",
       "3    know hmm wonder feels like fuck bingo hard hmm...\n",
       "4    youuuu little bitch keep winter gloves away zi...\n",
       "Name: tweet, dtype: object"
      ]
     },
     "execution_count": 13,
     "metadata": {},
     "output_type": "execute_result"
    }
   ],
   "source": [
    "tweet['tweet'] = tweet['tweet'].apply(lambda x: \" \".join(x for x in x.split() if len(x) > 2))\n",
    "tweet['tweet'].head()"
   ]
  },
  {
   "cell_type": "code",
   "execution_count": 14,
   "metadata": {},
   "outputs": [
    {
     "data": {
      "text/html": [
       "<div>\n",
       "<style scoped>\n",
       "    .dataframe tbody tr th:only-of-type {\n",
       "        vertical-align: middle;\n",
       "    }\n",
       "\n",
       "    .dataframe tbody tr th {\n",
       "        vertical-align: top;\n",
       "    }\n",
       "\n",
       "    .dataframe thead th {\n",
       "        text-align: right;\n",
       "    }\n",
       "</style>\n",
       "<table border=\"1\" class=\"dataframe\">\n",
       "  <thead>\n",
       "    <tr style=\"text-align: right;\">\n",
       "      <th></th>\n",
       "      <th>tweet</th>\n",
       "      <th>label</th>\n",
       "      <th>numerics</th>\n",
       "    </tr>\n",
       "  </thead>\n",
       "  <tbody>\n",
       "    <tr>\n",
       "      <th>0</th>\n",
       "      <td>zzzzzzzz</td>\n",
       "      <td>1</td>\n",
       "      <td>0</td>\n",
       "    </tr>\n",
       "    <tr>\n",
       "      <th>1</th>\n",
       "      <td>hey stop twitting post blog</td>\n",
       "      <td>1</td>\n",
       "      <td>0</td>\n",
       "    </tr>\n",
       "    <tr>\n",
       "      <th>2</th>\n",
       "      <td>httptwitpiccomqtt bingo waaaaay hard wanna itw...</td>\n",
       "      <td>1</td>\n",
       "      <td>0</td>\n",
       "    </tr>\n",
       "    <tr>\n",
       "      <th>3</th>\n",
       "      <td>know hmm wonder feels bingo hard hmmmm guss il...</td>\n",
       "      <td>1</td>\n",
       "      <td>0</td>\n",
       "    </tr>\n",
       "    <tr>\n",
       "      <th>4</th>\n",
       "      <td>youuuu little bitch keep winter gloves away zi...</td>\n",
       "      <td>1</td>\n",
       "      <td>0</td>\n",
       "    </tr>\n",
       "    <tr>\n",
       "      <th>5</th>\n",
       "      <td>sound amazingly astoundingly gay thats bad sou...</td>\n",
       "      <td>1</td>\n",
       "      <td>0</td>\n",
       "    </tr>\n",
       "    <tr>\n",
       "      <th>6</th>\n",
       "      <td>much autodms also check links theyre music rel...</td>\n",
       "      <td>1</td>\n",
       "      <td>0</td>\n",
       "    </tr>\n",
       "    <tr>\n",
       "      <th>7</th>\n",
       "      <td>blocking value back telemarketing loser market...</td>\n",
       "      <td>1</td>\n",
       "      <td>0</td>\n",
       "    </tr>\n",
       "    <tr>\n",
       "      <th>8</th>\n",
       "      <td>edward bella slightly less emo</td>\n",
       "      <td>1</td>\n",
       "      <td>0</td>\n",
       "    </tr>\n",
       "    <tr>\n",
       "      <th>9</th>\n",
       "      <td>scanman asthepumpturns yeah mean mean person h...</td>\n",
       "      <td>1</td>\n",
       "      <td>0</td>\n",
       "    </tr>\n",
       "  </tbody>\n",
       "</table>\n",
       "</div>"
      ],
      "text/plain": [
       "                                               tweet  label  numerics\n",
       "0                                           zzzzzzzz      1         0\n",
       "1                        hey stop twitting post blog      1         0\n",
       "2  httptwitpiccomqtt bingo waaaaay hard wanna itw...      1         0\n",
       "3  know hmm wonder feels bingo hard hmmmm guss il...      1         0\n",
       "4  youuuu little bitch keep winter gloves away zi...      1         0\n",
       "5  sound amazingly astoundingly gay thats bad sou...      1         0\n",
       "6  much autodms also check links theyre music rel...      1         0\n",
       "7  blocking value back telemarketing loser market...      1         0\n",
       "8                     edward bella slightly less emo      1         0\n",
       "9  scanman asthepumpturns yeah mean mean person h...      1         0"
      ]
     },
     "execution_count": 14,
     "metadata": {},
     "output_type": "execute_result"
    }
   ],
   "source": [
    "freq = pd.Series(' '.join(tweet['tweet']).split()).value_counts()[:10]\n",
    "freq = list(freq.index)\n",
    "tweet['tweet'] = tweet['tweet'].apply(lambda x: \" \".join(x for x in x.split() if x not in freq))\n",
    "tweet.head(10)"
   ]
  },
  {
   "cell_type": "code",
   "execution_count": 15,
   "metadata": {},
   "outputs": [
    {
     "name": "stdout",
     "output_type": "stream",
     "text": [
      "(13300,)\n",
      "(5701,)\n",
      "(13300,)\n",
      "(5701,)\n"
     ]
    },
    {
     "name": "stderr",
     "output_type": "stream",
     "text": [
      "C:\\Users\\Richie Rozario\\Anaconda3\\lib\\site-packages\\sklearn\\cross_validation.py:41: DeprecationWarning: This module was deprecated in version 0.18 in favor of the model_selection module into which all the refactored classes and functions are moved. Also note that the interface of the new CV iterators are different from that of this module. This module will be removed in 0.20.\n",
      "  \"This module will be removed in 0.20.\", DeprecationWarning)\n"
     ]
    }
   ],
   "source": [
    "from sklearn.cross_validation import train_test_split\n",
    "\n",
    "X = tweet.tweet\n",
    "y = tweet.label\n",
    "\n",
    "X_train, X_test, y_train, y_test = train_test_split(X, y, train_size=.7, random_state=10)\n",
    "print(X_train.shape)\n",
    "print(X_test.shape)\n",
    "print(y_train.shape)\n",
    "print(y_test.shape)"
   ]
  },
  {
   "cell_type": "code",
   "execution_count": 16,
   "metadata": {},
   "outputs": [],
   "source": [
    "def tokenize(tweet):\n",
    "    words = word_tokenize(tweet)\n",
    "    \n",
    "    stemmer = PorterStemmer()\n",
    "    words = [stemmer.stem(word) for word in words]\n",
    "    \n",
    "    lemma = WordNetLemmatizer()\n",
    "    words = [lemma.lemmatize(word) for word in words]\n",
    "    \n",
    "    return words"
   ]
  },
  {
   "cell_type": "code",
   "execution_count": 17,
   "metadata": {},
   "outputs": [
    {
     "data": {
      "text/plain": [
       "CountVectorizer(analyzer='word', binary=False, decode_error='strict',\n",
       "        dtype=<class 'numpy.int64'>, encoding='ISO-8859-1',\n",
       "        input='content', lowercase=True, max_df=1.0, max_features=None,\n",
       "        min_df=1, ngram_range=(1, 2), preprocessor=None,\n",
       "        stop_words='english', strip_accents=None,\n",
       "        token_pattern='(?u)\\\\b\\\\w\\\\w+\\\\b',\n",
       "        tokenizer=<function tokenize at 0x000001CB60C8EA60>,\n",
       "        vocabulary=None)"
      ]
     },
     "execution_count": 17,
     "metadata": {},
     "output_type": "execute_result"
    }
   ],
   "source": [
    "vect = CountVectorizer(analyzer='word', binary=False, decode_error='strict',\n",
    "        encoding='ISO-8859-1', input='content',\n",
    "        lowercase=True, max_df=1.0, max_features=None, min_df=1,\n",
    "        ngram_range=(1, 2), preprocessor=None, stop_words='english',\n",
    "        strip_accents=None, token_pattern='(?u)\\\\b\\\\w\\\\w+\\\\b',\n",
    "        tokenizer=tokenize, vocabulary=None)\n",
    "vect"
   ]
  },
  {
   "cell_type": "code",
   "execution_count": 18,
   "metadata": {},
   "outputs": [
    {
     "data": {
      "text/plain": [
       "<13300x51746 sparse matrix of type '<class 'numpy.int64'>'\n",
       "\twith 126916 stored elements in Compressed Sparse Row format>"
      ]
     },
     "execution_count": 18,
     "metadata": {},
     "output_type": "execute_result"
    }
   ],
   "source": [
    "X_train_dtm = vect.fit_transform(X_train)\n",
    "X_train_dtm"
   ]
  },
  {
   "cell_type": "code",
   "execution_count": 19,
   "metadata": {},
   "outputs": [
    {
     "name": "stdout",
     "output_type": "stream",
     "text": [
      "  (0, 3320)\t1\n",
      "  (0, 9959)\t1\n",
      "  (0, 10075)\t1\n",
      "  (0, 13625)\t1\n",
      "  (0, 24956)\t1\n",
      "  (0, 29065)\t1\n",
      "  (0, 32303)\t1\n",
      "  (0, 50504)\t2\n",
      "  (1, 5741)\t1\n",
      "  (1, 12080)\t1\n",
      "  (1, 14009)\t1\n",
      "  (1, 14056)\t1\n",
      "  (1, 32515)\t1\n",
      "  (1, 32516)\t1\n",
      "  (1, 44047)\t1\n",
      "  (1, 44088)\t1\n",
      "  (2, 20587)\t1\n",
      "  (2, 27537)\t1\n",
      "  (3, 11672)\t1\n",
      "  (3, 11673)\t1\n",
      "  (3, 12524)\t1\n",
      "  (3, 12526)\t1\n",
      "  (3, 15682)\t1\n",
      "  (3, 15699)\t1\n",
      "  (3, 17667)\t1\n",
      "  :\t:\n",
      "  (5694, 21328)\t1\n",
      "  (5694, 42342)\t1\n",
      "  (5694, 44879)\t1\n",
      "  (5694, 45901)\t1\n",
      "  (5695, 853)\t1\n",
      "  (5695, 11478)\t1\n",
      "  (5695, 14009)\t1\n",
      "  (5697, 30396)\t1\n",
      "  (5697, 37660)\t1\n",
      "  (5697, 37697)\t1\n",
      "  (5697, 37965)\t1\n",
      "  (5697, 41929)\t1\n",
      "  (5697, 47048)\t1\n",
      "  (5698, 132)\t1\n",
      "  (5698, 3094)\t1\n",
      "  (5698, 9994)\t1\n",
      "  (5698, 20963)\t1\n",
      "  (5698, 30574)\t1\n",
      "  (5698, 35470)\t1\n",
      "  (5698, 42561)\t1\n",
      "  (5698, 43358)\t1\n",
      "  (5698, 46384)\t1\n",
      "  (5699, 3647)\t2\n",
      "  (5699, 14831)\t1\n",
      "  (5699, 41429)\t1\n"
     ]
    }
   ],
   "source": [
    "X_test_dtm = vect.transform(X_test)\n",
    "print(X_test_dtm)"
   ]
  },
  {
   "cell_type": "code",
   "execution_count": 20,
   "metadata": {},
   "outputs": [],
   "source": [
    "from sklearn.naive_bayes import MultinomialNB\n",
    "nb = MultinomialNB()"
   ]
  },
  {
   "cell_type": "code",
   "execution_count": 21,
   "metadata": {},
   "outputs": [
    {
     "name": "stdout",
     "output_type": "stream",
     "text": [
      "Wall time: 225 ms\n"
     ]
    },
    {
     "data": {
      "text/plain": [
       "MultinomialNB(alpha=1.0, class_prior=None, fit_prior=True)"
      ]
     },
     "execution_count": 21,
     "metadata": {},
     "output_type": "execute_result"
    }
   ],
   "source": [
    "%time nb.fit(X_train_dtm, y_train)"
   ]
  },
  {
   "cell_type": "code",
   "execution_count": 22,
   "metadata": {},
   "outputs": [],
   "source": [
    "y_pred_class = nb.predict(X_test_dtm)"
   ]
  },
  {
   "cell_type": "code",
   "execution_count": 23,
   "metadata": {},
   "outputs": [
    {
     "data": {
      "text/plain": [
       "0.8433608138922996"
      ]
     },
     "execution_count": 23,
     "metadata": {},
     "output_type": "execute_result"
    }
   ],
   "source": [
    "from sklearn import metrics\n",
    "metrics.accuracy_score(y_test, y_pred_class)"
   ]
  },
  {
   "cell_type": "code",
   "execution_count": 28,
   "metadata": {},
   "outputs": [],
   "source": [
    "from keras.models import Sequential\n",
    "from keras import layers\n",
    "\n",
    "input_dim = X_train_dtm.shape[1]  # Number of features\n",
    "\n",
    "model = Sequential()\n",
    "model.add(layers.Dense(10, input_dim=input_dim, activation='relu'))\n",
    "model.add(layers.Dense(1, activation='sigmoid'))"
   ]
  },
  {
   "cell_type": "code",
   "execution_count": 29,
   "metadata": {},
   "outputs": [],
   "source": [
    "model.compile(optimizer='adam',\n",
    "              loss='binary_crossentropy',\n",
    "              metrics=['acc'])"
   ]
  },
  {
   "cell_type": "code",
   "execution_count": 30,
   "metadata": {},
   "outputs": [],
   "source": [
    "x_val = X_train_dtm[:4300]\n",
    "partial_x_train = X_train_dtm[4300:]\n",
    "\n",
    "y_val = y_train[:4300]\n",
    "partial_y_train = y_train[4300:]"
   ]
  },
  {
   "cell_type": "code",
   "execution_count": 31,
   "metadata": {},
   "outputs": [
    {
     "name": "stdout",
     "output_type": "stream",
     "text": [
      "Train on 9000 samples, validate on 4300 samples\n",
      "Epoch 1/40\n",
      "9000/9000 [==============================] - 11s 1ms/step - loss: 0.6838 - acc: 0.6207 - val_loss: 0.6704 - val_acc: 0.6440\n",
      "Epoch 2/40\n",
      "9000/9000 [==============================] - 10s 1ms/step - loss: 0.6358 - acc: 0.7098 - val_loss: 0.6422 - val_acc: 0.7012\n",
      "Epoch 3/40\n",
      "9000/9000 [==============================] - 10s 1ms/step - loss: 0.5803 - acc: 0.8000 - val_loss: 0.6140 - val_acc: 0.7379\n",
      "Epoch 4/40\n",
      "9000/9000 [==============================] - 10s 1ms/step - loss: 0.5239 - acc: 0.8537 - val_loss: 0.5871 - val_acc: 0.7735\n",
      "Epoch 5/40\n",
      "9000/9000 [==============================] - 10s 1ms/step - loss: 0.4707 - acc: 0.8903 - val_loss: 0.5620 - val_acc: 0.7891\n",
      "Epoch 6/40\n",
      "9000/9000 [==============================] - 10s 1ms/step - loss: 0.4224 - acc: 0.9106 - val_loss: 0.5397 - val_acc: 0.7986\n",
      "Epoch 7/40\n",
      "9000/9000 [==============================] - 10s 1ms/step - loss: 0.3796 - acc: 0.9232 - val_loss: 0.5198 - val_acc: 0.8081\n",
      "Epoch 8/40\n",
      "9000/9000 [==============================] - 10s 1ms/step - loss: 0.3421 - acc: 0.9316 - val_loss: 0.5027 - val_acc: 0.8058\n",
      "Epoch 9/40\n",
      "9000/9000 [==============================] - 10s 1ms/step - loss: 0.3098 - acc: 0.9387 - val_loss: 0.4884 - val_acc: 0.8067\n",
      "Epoch 10/40\n",
      "9000/9000 [==============================] - 10s 1ms/step - loss: 0.2819 - acc: 0.9420 - val_loss: 0.4762 - val_acc: 0.8105\n",
      "Epoch 11/40\n",
      "9000/9000 [==============================] - 11s 1ms/step - loss: 0.2580 - acc: 0.9464 - val_loss: 0.4657 - val_acc: 0.8126\n",
      "Epoch 12/40\n",
      "9000/9000 [==============================] - 10s 1ms/step - loss: 0.2374 - acc: 0.9511 - val_loss: 0.4574 - val_acc: 0.8151\n",
      "Epoch 13/40\n",
      "9000/9000 [==============================] - 10s 1ms/step - loss: 0.2195 - acc: 0.9540 - val_loss: 0.4499 - val_acc: 0.8158\n",
      "Epoch 14/40\n",
      "9000/9000 [==============================] - 10s 1ms/step - loss: 0.2040 - acc: 0.9571 - val_loss: 0.4440 - val_acc: 0.8144\n",
      "Epoch 15/40\n",
      "9000/9000 [==============================] - 10s 1ms/step - loss: 0.1905 - acc: 0.9594 - val_loss: 0.4390 - val_acc: 0.8149\n",
      "Epoch 16/40\n",
      "9000/9000 [==============================] - 10s 1ms/step - loss: 0.1786 - acc: 0.9618 - val_loss: 0.4348 - val_acc: 0.8147\n",
      "Epoch 17/40\n",
      "9000/9000 [==============================] - 10s 1ms/step - loss: 0.1681 - acc: 0.9637 - val_loss: 0.4316 - val_acc: 0.8153\n",
      "Epoch 18/40\n",
      "9000/9000 [==============================] - 10s 1ms/step - loss: 0.1589 - acc: 0.9643 - val_loss: 0.4288 - val_acc: 0.8163\n",
      "Epoch 19/40\n",
      "9000/9000 [==============================] - 10s 1ms/step - loss: 0.1506 - acc: 0.9650 - val_loss: 0.4268 - val_acc: 0.8158\n",
      "Epoch 20/40\n",
      "9000/9000 [==============================] - 10s 1ms/step - loss: 0.1432 - acc: 0.9658 - val_loss: 0.4253 - val_acc: 0.8160\n",
      "Epoch 21/40\n",
      "9000/9000 [==============================] - 10s 1ms/step - loss: 0.1366 - acc: 0.9669 - val_loss: 0.4241 - val_acc: 0.8153\n",
      "Epoch 22/40\n",
      "9000/9000 [==============================] - 10s 1ms/step - loss: 0.1307 - acc: 0.9674 - val_loss: 0.4234 - val_acc: 0.8135\n",
      "Epoch 23/40\n",
      "9000/9000 [==============================] - 10s 1ms/step - loss: 0.1252 - acc: 0.9678 - val_loss: 0.4228 - val_acc: 0.8128\n",
      "Epoch 24/40\n",
      "9000/9000 [==============================] - 10s 1ms/step - loss: 0.1203 - acc: 0.9684 - val_loss: 0.4229 - val_acc: 0.8123\n",
      "Epoch 25/40\n",
      "9000/9000 [==============================] - 10s 1ms/step - loss: 0.1159 - acc: 0.9688 - val_loss: 0.4228 - val_acc: 0.8114\n",
      "Epoch 26/40\n",
      "9000/9000 [==============================] - 10s 1ms/step - loss: 0.1118 - acc: 0.9687 - val_loss: 0.4235 - val_acc: 0.8100\n",
      "Epoch 27/40\n",
      "9000/9000 [==============================] - 10s 1ms/step - loss: 0.1080 - acc: 0.9688 - val_loss: 0.4237 - val_acc: 0.8095\n",
      "Epoch 28/40\n",
      "9000/9000 [==============================] - 10s 1ms/step - loss: 0.1045 - acc: 0.9694 - val_loss: 0.4245 - val_acc: 0.8098\n",
      "Epoch 29/40\n",
      "9000/9000 [==============================] - 10s 1ms/step - loss: 0.1014 - acc: 0.9703 - val_loss: 0.4252 - val_acc: 0.8091\n",
      "Epoch 30/40\n",
      "9000/9000 [==============================] - 10s 1ms/step - loss: 0.0984 - acc: 0.9706 - val_loss: 0.4260 - val_acc: 0.8091\n",
      "Epoch 31/40\n",
      "9000/9000 [==============================] - 10s 1ms/step - loss: 0.0957 - acc: 0.9712 - val_loss: 0.4276 - val_acc: 0.8070\n",
      "Epoch 32/40\n",
      "9000/9000 [==============================] - 10s 1ms/step - loss: 0.0932 - acc: 0.9717 - val_loss: 0.4284 - val_acc: 0.8065\n",
      "Epoch 33/40\n",
      "9000/9000 [==============================] - 10s 1ms/step - loss: 0.0908 - acc: 0.9717 - val_loss: 0.4301 - val_acc: 0.8070\n",
      "Epoch 34/40\n",
      "9000/9000 [==============================] - 10s 1ms/step - loss: 0.0886 - acc: 0.9719 - val_loss: 0.4318 - val_acc: 0.8058\n",
      "Epoch 35/40\n",
      "9000/9000 [==============================] - 10s 1ms/step - loss: 0.0865 - acc: 0.9720 - val_loss: 0.4332 - val_acc: 0.8056\n",
      "Epoch 36/40\n",
      "9000/9000 [==============================] - 10s 1ms/step - loss: 0.0846 - acc: 0.9721 - val_loss: 0.4345 - val_acc: 0.8060\n",
      "Epoch 37/40\n",
      "9000/9000 [==============================] - 10s 1ms/step - loss: 0.0828 - acc: 0.9722 - val_loss: 0.4366 - val_acc: 0.8063\n",
      "Epoch 38/40\n",
      "9000/9000 [==============================] - 10s 1ms/step - loss: 0.0811 - acc: 0.9721 - val_loss: 0.4378 - val_acc: 0.8072\n",
      "Epoch 39/40\n",
      "9000/9000 [==============================] - 10s 1ms/step - loss: 0.0795 - acc: 0.9724 - val_loss: 0.4389 - val_acc: 0.8072\n",
      "Epoch 40/40\n",
      "9000/9000 [==============================] - 10s 1ms/step - loss: 0.0780 - acc: 0.9730 - val_loss: 0.4416 - val_acc: 0.8063\n"
     ]
    }
   ],
   "source": [
    "history = model.fit(partial_x_train,\n",
    "                    partial_y_train,\n",
    "                    epochs=40,\n",
    "                    batch_size=512,\n",
    "                    validation_data=(x_val, y_val),\n",
    "                    verbose=1)"
   ]
  },
  {
   "cell_type": "code",
   "execution_count": 34,
   "metadata": {},
   "outputs": [
    {
     "name": "stdout",
     "output_type": "stream",
     "text": [
      "5701/5701 [==============================] - 4s 760us/step\n",
      "[0.427194032098636, 0.8168742325907735]\n"
     ]
    }
   ],
   "source": [
    "results = model.evaluate(X_test_dtm, y_test)\n",
    "\n",
    "print(results)"
   ]
  },
  {
   "cell_type": "code",
   "execution_count": null,
   "metadata": {},
   "outputs": [],
   "source": []
  }
 ],
 "metadata": {
  "kernelspec": {
   "display_name": "Python 3",
   "language": "python",
   "name": "python3"
  },
  "language_info": {
   "codemirror_mode": {
    "name": "ipython",
    "version": 3
   },
   "file_extension": ".py",
   "mimetype": "text/x-python",
   "name": "python",
   "nbconvert_exporter": "python",
   "pygments_lexer": "ipython3",
   "version": "3.7.3"
  }
 },
 "nbformat": 4,
 "nbformat_minor": 2
}
