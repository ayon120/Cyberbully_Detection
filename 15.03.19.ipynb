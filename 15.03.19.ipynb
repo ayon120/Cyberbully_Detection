{
 "cells": [
  {
   "cell_type": "markdown",
   "metadata": {},
   "source": [
    "# Cyberbullying detection using machine learining"
   ]
  },
  {
   "cell_type": "code",
   "execution_count": 1,
   "metadata": {},
   "outputs": [],
   "source": [
    "# for Python 2: use print only as a function\n",
    "from __future__ import absolute_import\n",
    "from __future__ import division\n",
    "from __future__ import print_function"
   ]
  },
  {
   "cell_type": "code",
   "execution_count": 2,
   "metadata": {},
   "outputs": [],
   "source": [
    "# import and instantiate CountVectorizer (with the default parameters)\n",
    "from sklearn.feature_extraction.text import CountVectorizer, TfidfVectorizer, HashingVectorizer"
   ]
  },
  {
   "cell_type": "code",
   "execution_count": 3,
   "metadata": {},
   "outputs": [],
   "source": [
    "from nltk.tokenize import word_tokenize\n",
    "from nltk.corpus import stopwords\n",
    "from nltk.stem import PorterStemmer\n",
    "from nltk.stem import SnowballStemmer\n",
    "from nltk.stem import WordNetLemmatizer\n",
    "from wordcloud import WordCloud\n",
    "from textblob import TextBlob\n",
    "from textblob import Word\n",
    "import matplotlib.pyplot as plt\n",
    "from math import log, sqrt\n",
    "from mlxtend.plotting import plot_decision_regions\n",
    "import pandas as pd\n",
    "import numpy as np\n",
    "import spacy\n",
    "import re\n",
    "%matplotlib inline"
   ]
  },
  {
   "cell_type": "code",
   "execution_count": 4,
   "metadata": {},
   "outputs": [],
   "source": [
    "# read file into pandas using a relative path\n",
    "tweet = pd.read_csv(\"data/h.csv\", encoding=\"ISO-8859-1\")"
   ]
  },
  {
   "cell_type": "code",
   "execution_count": 5,
   "metadata": {},
   "outputs": [
    {
     "data": {
      "text/plain": [
       "(19001, 4)"
      ]
     },
     "execution_count": 5,
     "metadata": {},
     "output_type": "execute_result"
    }
   ],
   "source": [
    "# examine the shape\n",
    "tweet.shape"
   ]
  },
  {
   "cell_type": "code",
   "execution_count": 6,
   "metadata": {},
   "outputs": [
    {
     "data": {
      "text/html": [
       "<div>\n",
       "<style scoped>\n",
       "    .dataframe tbody tr th:only-of-type {\n",
       "        vertical-align: middle;\n",
       "    }\n",
       "\n",
       "    .dataframe tbody tr th {\n",
       "        vertical-align: top;\n",
       "    }\n",
       "\n",
       "    .dataframe thead th {\n",
       "        text-align: right;\n",
       "    }\n",
       "</style>\n",
       "<table border=\"1\" class=\"dataframe\">\n",
       "  <thead>\n",
       "    <tr style=\"text-align: right;\">\n",
       "      <th></th>\n",
       "      <th>content</th>\n",
       "      <th>annotation__notes</th>\n",
       "      <th>annotation__label__-</th>\n",
       "      <th>extras</th>\n",
       "    </tr>\n",
       "  </thead>\n",
       "  <tbody>\n",
       "    <tr>\n",
       "      <th>0</th>\n",
       "      <td>I hate .... you .... zzzzzzzz</td>\n",
       "      <td>NaN</td>\n",
       "      <td>1</td>\n",
       "      <td>NaN</td>\n",
       "    </tr>\n",
       "    <tr>\n",
       "      <th>1</th>\n",
       "      <td>Hey... Stop twitting and post a damn blog!</td>\n",
       "      <td>NaN</td>\n",
       "      <td>1</td>\n",
       "      <td>NaN</td>\n",
       "    </tr>\n",
       "    <tr>\n",
       "      <th>2</th>\n",
       "      <td>http://twitpic.com/qtt0 - O.O bingo is waaaaay...</td>\n",
       "      <td>NaN</td>\n",
       "      <td>1</td>\n",
       "      <td>NaN</td>\n",
       "    </tr>\n",
       "    <tr>\n",
       "      <th>3</th>\n",
       "      <td>xD! i know. hmm ....i wonder how it feels like...</td>\n",
       "      <td>NaN</td>\n",
       "      <td>1</td>\n",
       "      <td>NaN</td>\n",
       "    </tr>\n",
       "    <tr>\n",
       "      <th>4</th>\n",
       "      <td>oh youuuu little bitch. Just keep your winter ...</td>\n",
       "      <td>NaN</td>\n",
       "      <td>1</td>\n",
       "      <td>NaN</td>\n",
       "    </tr>\n",
       "    <tr>\n",
       "      <th>5</th>\n",
       "      <td>not to sound amazingly  astoundingly gay (not ...</td>\n",
       "      <td>NaN</td>\n",
       "      <td>1</td>\n",
       "      <td>NaN</td>\n",
       "    </tr>\n",
       "    <tr>\n",
       "      <th>6</th>\n",
       "      <td>as much as i hate auto-DM's  i also check out ...</td>\n",
       "      <td>NaN</td>\n",
       "      <td>1</td>\n",
       "      <td>NaN</td>\n",
       "    </tr>\n",
       "    <tr>\n",
       "      <th>7</th>\n",
       "      <td>I'm blocking you because you have no value. Go...</td>\n",
       "      <td>NaN</td>\n",
       "      <td>1</td>\n",
       "      <td>NaN</td>\n",
       "    </tr>\n",
       "    <tr>\n",
       "      <th>8</th>\n",
       "      <td>If only Edward and Bella were slightly less em...</td>\n",
       "      <td>NaN</td>\n",
       "      <td>1</td>\n",
       "      <td>NaN</td>\n",
       "    </tr>\n",
       "    <tr>\n",
       "      <th>9</th>\n",
       "      <td>@scanman and @asthepumpturns. Yeah  I am a mea...</td>\n",
       "      <td>NaN</td>\n",
       "      <td>1</td>\n",
       "      <td>NaN</td>\n",
       "    </tr>\n",
       "  </tbody>\n",
       "</table>\n",
       "</div>"
      ],
      "text/plain": [
       "                                             content  annotation__notes  \\\n",
       "0                      I hate .... you .... zzzzzzzz                NaN   \n",
       "1         Hey... Stop twitting and post a damn blog!                NaN   \n",
       "2  http://twitpic.com/qtt0 - O.O bingo is waaaaay...                NaN   \n",
       "3  xD! i know. hmm ....i wonder how it feels like...                NaN   \n",
       "4  oh youuuu little bitch. Just keep your winter ...                NaN   \n",
       "5  not to sound amazingly  astoundingly gay (not ...                NaN   \n",
       "6  as much as i hate auto-DM's  i also check out ...                NaN   \n",
       "7  I'm blocking you because you have no value. Go...                NaN   \n",
       "8  If only Edward and Bella were slightly less em...                NaN   \n",
       "9  @scanman and @asthepumpturns. Yeah  I am a mea...                NaN   \n",
       "\n",
       "   annotation__label__-  extras  \n",
       "0                     1     NaN  \n",
       "1                     1     NaN  \n",
       "2                     1     NaN  \n",
       "3                     1     NaN  \n",
       "4                     1     NaN  \n",
       "5                     1     NaN  \n",
       "6                     1     NaN  \n",
       "7                     1     NaN  \n",
       "8                     1     NaN  \n",
       "9                     1     NaN  "
      ]
     },
     "execution_count": 6,
     "metadata": {},
     "output_type": "execute_result"
    }
   ],
   "source": [
    "# examine the first 10 rows\n",
    "tweet.head(10)"
   ]
  },
  {
   "cell_type": "code",
   "execution_count": 7,
   "metadata": {},
   "outputs": [
    {
     "data": {
      "text/html": [
       "<div>\n",
       "<style scoped>\n",
       "    .dataframe tbody tr th:only-of-type {\n",
       "        vertical-align: middle;\n",
       "    }\n",
       "\n",
       "    .dataframe tbody tr th {\n",
       "        vertical-align: top;\n",
       "    }\n",
       "\n",
       "    .dataframe thead th {\n",
       "        text-align: right;\n",
       "    }\n",
       "</style>\n",
       "<table border=\"1\" class=\"dataframe\">\n",
       "  <thead>\n",
       "    <tr style=\"text-align: right;\">\n",
       "      <th></th>\n",
       "      <th>tweet</th>\n",
       "      <th>label</th>\n",
       "    </tr>\n",
       "  </thead>\n",
       "  <tbody>\n",
       "    <tr>\n",
       "      <th>0</th>\n",
       "      <td>I hate .... you .... zzzzzzzz</td>\n",
       "      <td>1</td>\n",
       "    </tr>\n",
       "    <tr>\n",
       "      <th>1</th>\n",
       "      <td>Hey... Stop twitting and post a damn blog!</td>\n",
       "      <td>1</td>\n",
       "    </tr>\n",
       "    <tr>\n",
       "      <th>2</th>\n",
       "      <td>http://twitpic.com/qtt0 - O.O bingo is waaaaay...</td>\n",
       "      <td>1</td>\n",
       "    </tr>\n",
       "    <tr>\n",
       "      <th>3</th>\n",
       "      <td>xD! i know. hmm ....i wonder how it feels like...</td>\n",
       "      <td>1</td>\n",
       "    </tr>\n",
       "    <tr>\n",
       "      <th>4</th>\n",
       "      <td>oh youuuu little bitch. Just keep your winter ...</td>\n",
       "      <td>1</td>\n",
       "    </tr>\n",
       "    <tr>\n",
       "      <th>5</th>\n",
       "      <td>not to sound amazingly  astoundingly gay (not ...</td>\n",
       "      <td>1</td>\n",
       "    </tr>\n",
       "    <tr>\n",
       "      <th>6</th>\n",
       "      <td>as much as i hate auto-DM's  i also check out ...</td>\n",
       "      <td>1</td>\n",
       "    </tr>\n",
       "    <tr>\n",
       "      <th>7</th>\n",
       "      <td>I'm blocking you because you have no value. Go...</td>\n",
       "      <td>1</td>\n",
       "    </tr>\n",
       "    <tr>\n",
       "      <th>8</th>\n",
       "      <td>If only Edward and Bella were slightly less em...</td>\n",
       "      <td>1</td>\n",
       "    </tr>\n",
       "    <tr>\n",
       "      <th>9</th>\n",
       "      <td>@scanman and @asthepumpturns. Yeah  I am a mea...</td>\n",
       "      <td>1</td>\n",
       "    </tr>\n",
       "  </tbody>\n",
       "</table>\n",
       "</div>"
      ],
      "text/plain": [
       "                                               tweet  label\n",
       "0                      I hate .... you .... zzzzzzzz      1\n",
       "1         Hey... Stop twitting and post a damn blog!      1\n",
       "2  http://twitpic.com/qtt0 - O.O bingo is waaaaay...      1\n",
       "3  xD! i know. hmm ....i wonder how it feels like...      1\n",
       "4  oh youuuu little bitch. Just keep your winter ...      1\n",
       "5  not to sound amazingly  astoundingly gay (not ...      1\n",
       "6  as much as i hate auto-DM's  i also check out ...      1\n",
       "7  I'm blocking you because you have no value. Go...      1\n",
       "8  If only Edward and Bella were slightly less em...      1\n",
       "9  @scanman and @asthepumpturns. Yeah  I am a mea...      1"
      ]
     },
     "execution_count": 7,
     "metadata": {},
     "output_type": "execute_result"
    }
   ],
   "source": [
    "tweet.rename(columns = {\"annotation__label__-\": \"label\", \"content\": \"tweet\"}, inplace = True)\n",
    "tweet.drop(['annotation__notes'], axis = 1, inplace = True)\n",
    "tweet.drop(['extras'], axis = 1, inplace = True)\n",
    "tweet.head(10)"
   ]
  },
  {
   "cell_type": "code",
   "execution_count": 8,
   "metadata": {},
   "outputs": [
    {
     "data": {
      "text/plain": [
       "0    11162\n",
       "1     7839\n",
       "Name: label, dtype: int64"
      ]
     },
     "execution_count": 8,
     "metadata": {},
     "output_type": "execute_result"
    }
   ],
   "source": [
    "# examine the class distribution\n",
    "tweet.label.value_counts()"
   ]
  },
  {
   "cell_type": "code",
   "execution_count": 9,
   "metadata": {},
   "outputs": [
    {
     "data": {
      "text/plain": [
       "0                        i hate .... you .... zzzzzzzz\n",
       "1           hey... stop twitting and post a damn blog!\n",
       "2    http://twitpic.com/qtt0 - o.o bingo is waaaaay...\n",
       "3    xd! i know. hmm ....i wonder how it feels like...\n",
       "4    oh youuuu little bitch. just keep your winter ...\n",
       "5    not to sound amazingly astoundingly gay (not t...\n",
       "6    as much as i hate auto-dm's i also check out l...\n",
       "7    i'm blocking you because you have no value. go...\n",
       "8    if only edward and bella were slightly less em...\n",
       "9    @scanman and @asthepumpturns. yeah i am a mean...\n",
       "Name: tweet, dtype: object"
      ]
     },
     "execution_count": 9,
     "metadata": {},
     "output_type": "execute_result"
    }
   ],
   "source": [
    "tweet['tweet'] = tweet['tweet'].apply(lambda x: \" \".join(x.lower() for x in x.split()))\n",
    "tweet['tweet'].head(10)"
   ]
  },
  {
   "cell_type": "code",
   "execution_count": 10,
   "metadata": {},
   "outputs": [
    {
     "data": {
      "text/plain": [
       "0                                i hate  you  zzzzzzzz\n",
       "1               hey stop twitting and post a damn blog\n",
       "2    httptwitpiccomqtt0  oo bingo is waaaaay to har...\n",
       "3    xd i know hmm i wonder how it feels like to fu...\n",
       "4    oh youuuu little bitch just keep your winter g...\n",
       "5    not to sound amazingly astoundingly gay not th...\n",
       "6    as much as i hate autodms i also check out lin...\n",
       "7    im blocking you because you have no value go b...\n",
       "8     if only edward and bella were slightly less emo \n",
       "9    scanman and asthepumpturns yeah i am a mean me...\n",
       "Name: tweet, dtype: object"
      ]
     },
     "execution_count": 10,
     "metadata": {},
     "output_type": "execute_result"
    }
   ],
   "source": [
    "tweet['tweet'] = tweet['tweet'].str.replace('[^\\w\\s]','')\n",
    "tweet['tweet'] = tweet['tweet'].str.replace(r'_','')\n",
    "tweet['tweet'].head(10)"
   ]
  },
  {
   "cell_type": "code",
   "execution_count": 11,
   "metadata": {},
   "outputs": [
    {
     "data": {
      "text/html": [
       "<div>\n",
       "<style scoped>\n",
       "    .dataframe tbody tr th:only-of-type {\n",
       "        vertical-align: middle;\n",
       "    }\n",
       "\n",
       "    .dataframe tbody tr th {\n",
       "        vertical-align: top;\n",
       "    }\n",
       "\n",
       "    .dataframe thead th {\n",
       "        text-align: right;\n",
       "    }\n",
       "</style>\n",
       "<table border=\"1\" class=\"dataframe\">\n",
       "  <thead>\n",
       "    <tr style=\"text-align: right;\">\n",
       "      <th></th>\n",
       "      <th>tweet</th>\n",
       "      <th>numerics</th>\n",
       "    </tr>\n",
       "  </thead>\n",
       "  <tbody>\n",
       "    <tr>\n",
       "      <th>0</th>\n",
       "      <td>i hate  you  zzzzzzzz</td>\n",
       "      <td>0</td>\n",
       "    </tr>\n",
       "    <tr>\n",
       "      <th>1</th>\n",
       "      <td>hey stop twitting and post a damn blog</td>\n",
       "      <td>0</td>\n",
       "    </tr>\n",
       "    <tr>\n",
       "      <th>2</th>\n",
       "      <td>httptwitpiccomqtt0  oo bingo is waaaaay to har...</td>\n",
       "      <td>0</td>\n",
       "    </tr>\n",
       "    <tr>\n",
       "      <th>3</th>\n",
       "      <td>xd i know hmm i wonder how it feels like to fu...</td>\n",
       "      <td>0</td>\n",
       "    </tr>\n",
       "    <tr>\n",
       "      <th>4</th>\n",
       "      <td>oh youuuu little bitch just keep your winter g...</td>\n",
       "      <td>0</td>\n",
       "    </tr>\n",
       "    <tr>\n",
       "      <th>5</th>\n",
       "      <td>not to sound amazingly astoundingly gay not th...</td>\n",
       "      <td>0</td>\n",
       "    </tr>\n",
       "    <tr>\n",
       "      <th>6</th>\n",
       "      <td>as much as i hate autodms i also check out lin...</td>\n",
       "      <td>0</td>\n",
       "    </tr>\n",
       "    <tr>\n",
       "      <th>7</th>\n",
       "      <td>im blocking you because you have no value go b...</td>\n",
       "      <td>0</td>\n",
       "    </tr>\n",
       "    <tr>\n",
       "      <th>8</th>\n",
       "      <td>if only edward and bella were slightly less emo</td>\n",
       "      <td>0</td>\n",
       "    </tr>\n",
       "    <tr>\n",
       "      <th>9</th>\n",
       "      <td>scanman and asthepumpturns yeah i am a mean me...</td>\n",
       "      <td>0</td>\n",
       "    </tr>\n",
       "  </tbody>\n",
       "</table>\n",
       "</div>"
      ],
      "text/plain": [
       "                                               tweet  numerics\n",
       "0                              i hate  you  zzzzzzzz         0\n",
       "1             hey stop twitting and post a damn blog         0\n",
       "2  httptwitpiccomqtt0  oo bingo is waaaaay to har...         0\n",
       "3  xd i know hmm i wonder how it feels like to fu...         0\n",
       "4  oh youuuu little bitch just keep your winter g...         0\n",
       "5  not to sound amazingly astoundingly gay not th...         0\n",
       "6  as much as i hate autodms i also check out lin...         0\n",
       "7  im blocking you because you have no value go b...         0\n",
       "8   if only edward and bella were slightly less emo          0\n",
       "9  scanman and asthepumpturns yeah i am a mean me...         0"
      ]
     },
     "execution_count": 11,
     "metadata": {},
     "output_type": "execute_result"
    }
   ],
   "source": [
    "tweet['numerics'] = tweet['tweet'].apply(lambda x: len([x for x in x.split() if x.isdigit()]))\n",
    "tweet[['tweet','numerics']].head(10)"
   ]
  },
  {
   "cell_type": "code",
   "execution_count": 12,
   "metadata": {},
   "outputs": [
    {
     "data": {
      "text/plain": [
       "0                                i hate  you  zzzzzzzz\n",
       "1               hey stop twitting and post a damn blog\n",
       "2    httptwitpiccomqtt  oo bingo is waaaaay to hard...\n",
       "3    xd i know hmm i wonder how it feels like to fu...\n",
       "4    oh youuuu little bitch just keep your winter g...\n",
       "5    not to sound amazingly astoundingly gay not th...\n",
       "6    as much as i hate autodms i also check out lin...\n",
       "7    im blocking you because you have no value go b...\n",
       "8     if only edward and bella were slightly less emo \n",
       "9    scanman and asthepumpturns yeah i am a mean me...\n",
       "Name: tweet, dtype: object"
      ]
     },
     "execution_count": 12,
     "metadata": {},
     "output_type": "execute_result"
    }
   ],
   "source": [
    "tweet['tweet'] = tweet['tweet'].str.replace('[\\d+]','')\n",
    "tweet['tweet'].head(10)"
   ]
  },
  {
   "cell_type": "code",
   "execution_count": 13,
   "metadata": {},
   "outputs": [
    {
     "data": {
      "text/plain": [
       "0                                        hate zzzzzzzz\n",
       "1                     hey stop twitting post damn blog\n",
       "2    httptwitpiccomqtt oo bingo waaaaay hard hate w...\n",
       "3    xd know hmm wonder feels like fuck bingo hard ...\n",
       "4    oh youuuu little bitch winter gloves away zipp...\n",
       "5    not sound amazingly astoundingly gay not thats...\n",
       "6        hate autodms check links theyre music related\n",
       "7    im blocking no value telemarketing loser marke...\n",
       "8                            edward bella slightly emo\n",
       "9    scanman asthepumpturns yeah mean mean person h...\n",
       "Name: tweet, dtype: object"
      ]
     },
     "execution_count": 13,
     "metadata": {},
     "output_type": "execute_result"
    }
   ],
   "source": [
    "stop = set(stopwords.words('english')) - {'however','no','not','but'}\n",
    "tweet['tweet'] = tweet['tweet'].apply(lambda x: \" \".join(x for x in x.split() if x not in stop))\n",
    "\n",
    "nlp = spacy.load('en')\n",
    "stop = spacy.lang.en.stop_words.STOP_WORDS - {'however','no','not','but'}\n",
    "tweet['tweet'] = tweet['tweet'].apply(lambda x: \" \".join(x for x in x.split() if x not in stop))\n",
    "tweet['tweet'].head(10)"
   ]
  },
  {
   "cell_type": "code",
   "execution_count": 14,
   "metadata": {},
   "outputs": [
    {
     "data": {
      "text/plain": [
       "0                                        hate zzzzzzzz\n",
       "1                     hey stop twitting post damn blog\n",
       "2    httptwitpiccomqtt bingo waaaaay hard hate wann...\n",
       "3    know hmm wonder feels like fuck bingo hard hmm...\n",
       "4    youuuu little bitch winter gloves away zipper ...\n",
       "5    not sound amazingly astoundingly gay not thats...\n",
       "6        hate autodms check links theyre music related\n",
       "7    blocking value telemarketing loser marketing s...\n",
       "8                            edward bella slightly emo\n",
       "9    scanman asthepumpturns yeah mean mean person h...\n",
       "Name: tweet, dtype: object"
      ]
     },
     "execution_count": 14,
     "metadata": {},
     "output_type": "execute_result"
    }
   ],
   "source": [
    "tweet['tweet'] = tweet['tweet'].apply(lambda x: \" \".join(x for x in x.split() if len(x)>2))\n",
    "tweet['tweet'].head(10)"
   ]
  },
  {
   "cell_type": "code",
   "execution_count": 15,
   "metadata": {},
   "outputs": [
    {
     "name": "stdout",
     "output_type": "stream",
     "text": [
      "['hate', 'damn', 'but', 'like', 'not', 'lol', 'dont', 'sucks', 'ass', 'know']\n"
     ]
    }
   ],
   "source": [
    "#tweet['tweet'].apply(lambda x: str(TextBlob(x).correct()))\n",
    "#tweet['tweet'].head(10)\n",
    "freq0 = pd.Series(' '.join(tweet[tweet['label'] == 0]['tweet']).split()).value_counts()[:15]\n",
    "freq1 = pd.Series(' '.join(tweet[tweet['label'] == 1]['tweet']).split()).value_counts()[:15]\n",
    "freq = list(x for x in freq0.index if x in freq1.index)\n",
    "print(freq)\n",
    "#freq = list()\n",
    "#freq = pd.Series(' '.join(tweet['tweet']).split()).value_counts()[:100]\n",
    "#print(freq)\n",
    "#freq = list(freq.index)\n",
    "#tweet['tweet'] = tweet['tweet'].apply(lambda x: \" \".join(x for x in x.split() if x not in freq))\n",
    "#tweet.to_csv('BlockBullying.csv')\n",
    "#freq = pd.Series(' '.join(tweet['tweet']).split()).value_counts()[:10]\n",
    "#freq = list(freq.index)\n",
    "tweet['tweet'] = tweet['tweet'].apply(lambda x: \" \".join(x for x in x.split() if x not in freq))\n",
    "tweet.head(10)"
   ]
  },
  {
   "cell_type": "code",
   "execution_count": 16,
   "metadata": {},
   "outputs": [],
   "source": [
    "st = PorterStemmer()\n",
    "tweet['tweet'] = tweet['tweet'].apply(lambda x: \" \".join([st.stem(word) for word in x.split()]))"
   ]
  },
  {
   "cell_type": "code",
   "execution_count": 17,
   "metadata": {},
   "outputs": [],
   "source": [
    "tweet['tweet'] = tweet['tweet'].apply(lambda x: \" \".join([Word(word).lemmatize() for word in x.split()]))"
   ]
  },
  {
   "cell_type": "code",
   "execution_count": 18,
   "metadata": {},
   "outputs": [
    {
     "data": {
      "image/png": "[encoded data removed]",
      "text/plain": [
       "<Figure size 720x576 with 1 Axes>"
      ]
     },
     "metadata": {},
     "output_type": "display_data"
    }
   ],
   "source": [
    "bully_words = ' '.join(list(tweet[tweet['label'] == 1]['tweet']))\n",
    "bully_wc = WordCloud(width = 512,height = 512).generate(bully_words)\n",
    "plt.figure(figsize = (10, 8), facecolor = 'k')\n",
    "plt.imshow(bully_wc)\n",
    "plt.axis('off')\n",
    "plt.tight_layout(pad = 0)\n",
    "plt.show()"
   ]
  },
  {
   "cell_type": "code",
   "execution_count": 19,
   "metadata": {},
   "outputs": [
    {
     "data": {
      "image/png": "[encoded data removed]",
      "text/plain": [
       "<Figure size 720x576 with 1 Axes>"
      ]
     },
     "metadata": {},
     "output_type": "display_data"
    }
   ],
   "source": [
    "non_bully_words = ' '.join(list(tweet[tweet['label'] == 0]['tweet']))\n",
    "non_bully_wc = WordCloud(width = 512,height = 512).generate(non_bully_words)\n",
    "plt.figure(figsize = (10, 8), facecolor = 'k')\n",
    "plt.imshow(non_bully_wc)\n",
    "plt.axis('off')\n",
    "plt.tight_layout(pad = 0)\n",
    "plt.show()"
   ]
  },
  {
   "cell_type": "code",
   "execution_count": 20,
   "metadata": {},
   "outputs": [
    {
     "name": "stdout",
     "output_type": "stream",
     "text": [
      "(19001,)\n",
      "(19001,)\n"
     ]
    }
   ],
   "source": [
    "# how to define X and y (from the Tweeter data) for use with COUNTVECTORIZER\n",
    "X = tweet.tweet\n",
    "y = tweet.label\n",
    "print(X.shape)\n",
    "print(y.shape)"
   ]
  },
  {
   "cell_type": "code",
   "execution_count": 21,
   "metadata": {},
   "outputs": [
    {
     "name": "stderr",
     "output_type": "stream",
     "text": [
      "C:\\Users\\ayon_\\Anaconda3\\envs\\PythonCPU\\lib\\site-packages\\sklearn\\model_selection\\_split.py:2179: FutureWarning: From version 0.21, test_size will always complement train_size unless both are specified.\n",
      "  FutureWarning)\n"
     ]
    },
    {
     "name": "stdout",
     "output_type": "stream",
     "text": [
      "(13300,)\n",
      "(5701,)\n",
      "(13300,)\n",
      "(5701,)\n"
     ]
    }
   ],
   "source": [
    "# split X and y into training and testing sets\n",
    "from sklearn.model_selection import train_test_split\n",
    "X_train, X_test, y_train, y_test = train_test_split(X, y, train_size=.7, random_state=42)\n",
    "print(X_train.shape)\n",
    "print(X_test.shape)\n",
    "print(y_train.shape)\n",
    "print(y_test.shape)"
   ]
  },
  {
   "cell_type": "code",
   "execution_count": 22,
   "metadata": {},
   "outputs": [],
   "source": [
    "def tokenize(tweet):\n",
    "    words = word_tokenize(tweet)\n",
    "    \n",
    "    stemmer = PorterStemmer()\n",
    "    words = [stemmer.stem(word) for word in words]\n",
    "    \n",
    "    lemma = WordNetLemmatizer()\n",
    "    words = [lemma.lemmatize(word) for word in words]\n",
    "    \n",
    "    return words"
   ]
  },
  {
   "cell_type": "code",
   "execution_count": 23,
   "metadata": {},
   "outputs": [
    {
     "data": {
      "text/plain": [
       "CountVectorizer(analyzer='word', binary=False, decode_error='strict',\n",
       "        dtype=<class 'numpy.int64'>, encoding='ISO-8859-1',\n",
       "        input='content', lowercase=True, max_df=1.0, max_features=None,\n",
       "        min_df=1, ngram_range=(1, 2), preprocessor=None, stop_words=None,\n",
       "        strip_accents=None, token_pattern='(?u)\\\\b\\\\w\\\\w+\\\\b',\n",
       "        tokenizer=None, vocabulary=None)"
      ]
     },
     "execution_count": 23,
     "metadata": {},
     "output_type": "execute_result"
    }
   ],
   "source": [
    "# instantiate the vectorizer\n",
    "#args = {\"stem\": True, \"lemmatize\": False}\n",
    "vect =  CountVectorizer(analyzer='word', binary=False, decode_error='strict',\n",
    "        encoding='ISO-8859-1', input='content',\n",
    "        lowercase=True, max_df=1.0, max_features=None, min_df=1,\n",
    "        ngram_range=(1, 2), preprocessor=None,\n",
    "        strip_accents=None, token_pattern='(?u)\\\\b\\\\w\\\\w+\\\\b')\n",
    "\n",
    "vect2 =  TfidfVectorizer(analyzer='word', binary=False, decode_error='strict',\n",
    "        encoding='ISO-8859-1', input='content',\n",
    "        lowercase=True, max_df=1.0, max_features=None, min_df=1,\n",
    "        ngram_range=(1, 2), norm='l2', preprocessor=None, smooth_idf=True,\n",
    "        stop_words='english', strip_accents=None, sublinear_tf=False,\n",
    "        token_pattern='(?u)\\\\b\\\\w\\\\w+\\\\b', use_idf=True,\n",
    "        vocabulary=None)\n",
    "#vect = HashingVectorizer()\n",
    "vect"
   ]
  },
  {
   "cell_type": "code",
   "execution_count": 24,
   "metadata": {},
   "outputs": [],
   "source": [
    "# equivalently: combine fit and transform into a single step\n",
    "X_train_dtm = vect.fit_transform(X_train)"
   ]
  },
  {
   "cell_type": "code",
   "execution_count": 25,
   "metadata": {},
   "outputs": [
    {
     "data": {
      "text/plain": [
       "<13300x54917 sparse matrix of type '<class 'numpy.int64'>'\n",
       "\twith 146975 stored elements in Compressed Sparse Row format>"
      ]
     },
     "execution_count": 25,
     "metadata": {},
     "output_type": "execute_result"
    }
   ],
   "source": [
    "# examine the document-term matrix\n",
    "X_train_dtm"
   ]
  },
  {
   "cell_type": "code",
   "execution_count": 26,
   "metadata": {},
   "outputs": [
    {
     "name": "stdout",
     "output_type": "stream",
     "text": [
      "  (0, 16499)\t1\n",
      "  (0, 16551)\t1\n",
      "  (0, 51460)\t1\n",
      "  (1, 9594)\t2\n",
      "  (1, 9597)\t1\n",
      "  (1, 9600)\t1\n",
      "  (1, 10144)\t1\n",
      "  (1, 10247)\t1\n",
      "  (1, 14550)\t1\n",
      "  (1, 14553)\t1\n",
      "  (1, 16124)\t1\n",
      "  (1, 16125)\t1\n",
      "  (1, 30300)\t1\n",
      "  (1, 30373)\t1\n",
      "  (1, 42833)\t1\n",
      "  (1, 42843)\t1\n",
      "  (1, 53272)\t1\n",
      "  (2, 3292)\t1\n",
      "  (2, 12290)\t1\n",
      "  (2, 12336)\t1\n",
      "  (2, 46065)\t1\n",
      "  (2, 46066)\t1\n",
      "  (4, 19247)\t1\n",
      "  (4, 19365)\t1\n",
      "  (4, 30674)\t1\n",
      "  :\t:\n",
      "  (5695, 39900)\t1\n",
      "  (5695, 48814)\t1\n",
      "  (5695, 48883)\t1\n",
      "  (5696, 29678)\t1\n",
      "  (5698, 12448)\t1\n",
      "  (5698, 12663)\t1\n",
      "  (5698, 13953)\t1\n",
      "  (5698, 44904)\t1\n",
      "  (5698, 45148)\t1\n",
      "  (5698, 46556)\t1\n",
      "  (5698, 53246)\t1\n",
      "  (5699, 8433)\t1\n",
      "  (5699, 12448)\t1\n",
      "  (5699, 12574)\t1\n",
      "  (5699, 26274)\t1\n",
      "  (5699, 26283)\t1\n",
      "  (5699, 27731)\t2\n",
      "  (5699, 29678)\t3\n",
      "  (5699, 29818)\t1\n",
      "  (5699, 45788)\t1\n",
      "  (5700, 6570)\t1\n",
      "  (5700, 6667)\t1\n",
      "  (5700, 21063)\t1\n",
      "  (5700, 21153)\t1\n",
      "  (5700, 50359)\t1\n"
     ]
    }
   ],
   "source": [
    "# transform testing data (using fitted vocabulary) into a document-term matrix\n",
    "X_test_dtm = vect.transform(X_test)\n",
    "print(X_test_dtm)"
   ]
  },
  {
   "cell_type": "code",
   "execution_count": 27,
   "metadata": {},
   "outputs": [],
   "source": [
    "# import and instantiate a Multinomial Naive Bayes model\n",
    "from sklearn.naive_bayes import MultinomialNB\n",
    "nb = MultinomialNB()"
   ]
  },
  {
   "cell_type": "code",
   "execution_count": 28,
   "metadata": {},
   "outputs": [
    {
     "name": "stdout",
     "output_type": "stream",
     "text": [
      "Wall time: 185 ms\n"
     ]
    },
    {
     "data": {
      "text/plain": [
       "MultinomialNB(alpha=1.0, class_prior=None, fit_prior=True)"
      ]
     },
     "execution_count": 28,
     "metadata": {},
     "output_type": "execute_result"
    }
   ],
   "source": [
    "# train the model using X_train_dtm (timing it with an IPython \"magic command\")\n",
    "%time nb.fit(X_train_dtm, y_train)"
   ]
  },
  {
   "cell_type": "code",
   "execution_count": 29,
   "metadata": {},
   "outputs": [],
   "source": [
    "# make class predictions for X_test_dtm\n",
    "y_pred_class = nb.predict(X_test_dtm)"
   ]
  },
  {
   "cell_type": "code",
   "execution_count": 30,
   "metadata": {},
   "outputs": [
    {
     "data": {
      "text/plain": [
       "0.8438870373618663"
      ]
     },
     "execution_count": 30,
     "metadata": {},
     "output_type": "execute_result"
    }
   ],
   "source": [
    "# calculate accuracy of class predictions\n",
    "from sklearn import metrics\n",
    "metrics.accuracy_score(y_test, y_pred_class)"
   ]
  },
  {
   "cell_type": "code",
   "execution_count": 31,
   "metadata": {},
   "outputs": [
    {
     "data": {
      "text/plain": [
       "array([[2790,  621],\n",
       "       [ 269, 2021]], dtype=int64)"
      ]
     },
     "execution_count": 31,
     "metadata": {},
     "output_type": "execute_result"
    }
   ],
   "source": [
    "# print the confusion matrix\n",
    "metrics.confusion_matrix(y_test, y_pred_class)"
   ]
  },
  {
   "cell_type": "code",
   "execution_count": 32,
   "metadata": {},
   "outputs": [
    {
     "name": "stdout",
     "output_type": "stream",
     "text": [
      "              precision    recall  f1-score   support\n",
      "\n",
      "           0       0.91      0.82      0.86      3411\n",
      "           1       0.76      0.88      0.82      2290\n",
      "\n",
      "   micro avg       0.84      0.84      0.84      5701\n",
      "   macro avg       0.84      0.85      0.84      5701\n",
      "weighted avg       0.85      0.84      0.85      5701\n",
      "\n"
     ]
    }
   ],
   "source": [
    "# print the classification report\n",
    "print(metrics.classification_report(y_test, y_pred_class))"
   ]
  },
  {
   "cell_type": "code",
   "execution_count": 33,
   "metadata": {},
   "outputs": [
    {
     "data": {
      "text/plain": [
       "array([0.30953937, 0.99454466, 0.06197024, ..., 0.14460296, 0.00219301,\n",
       "       0.39736219])"
      ]
     },
     "execution_count": 33,
     "metadata": {},
     "output_type": "execute_result"
    }
   ],
   "source": [
    "# calculate predicted probabilities for X_test_dtm (poorly calibrated)\n",
    "y_pred_prob = nb.predict_proba(X_test_dtm)[:, 1]\n",
    "y_pred_prob"
   ]
  },
  {
   "cell_type": "code",
   "execution_count": 34,
   "metadata": {},
   "outputs": [
    {
     "data": {
      "text/plain": [
       "0.9357549233855532"
      ]
     },
     "execution_count": 34,
     "metadata": {},
     "output_type": "execute_result"
    }
   ],
   "source": [
    "# calculate AUC\n",
    "metrics.roc_auc_score(y_test, y_pred_prob)"
   ]
  },
  {
   "cell_type": "code",
   "execution_count": 35,
   "metadata": {},
   "outputs": [],
   "source": [
    "# import and instantiate a logistic regression model\n",
    "from sklearn.linear_model import LogisticRegression\n",
    "lr = LogisticRegression()"
   ]
  },
  {
   "cell_type": "code",
   "execution_count": 36,
   "metadata": {},
   "outputs": [
    {
     "name": "stderr",
     "output_type": "stream",
     "text": [
      "C:\\Users\\ayon_\\Anaconda3\\envs\\PythonCPU\\lib\\site-packages\\sklearn\\linear_model\\logistic.py:433: FutureWarning: Default solver will be changed to 'lbfgs' in 0.22. Specify a solver to silence this warning.\n",
      "  FutureWarning)\n"
     ]
    },
    {
     "name": "stdout",
     "output_type": "stream",
     "text": [
      "Wall time: 612 ms\n"
     ]
    },
    {
     "data": {
      "text/plain": [
       "LogisticRegression(C=1.0, class_weight=None, dual=False, fit_intercept=True,\n",
       "          intercept_scaling=1, max_iter=100, multi_class='warn',\n",
       "          n_jobs=None, penalty='l2', random_state=None, solver='warn',\n",
       "          tol=0.0001, verbose=0, warm_start=False)"
      ]
     },
     "execution_count": 36,
     "metadata": {},
     "output_type": "execute_result"
    }
   ],
   "source": [
    "# train the model using X_train_dtm\n",
    "%time lr.fit(X_train_dtm, y_train)"
   ]
  },
  {
   "cell_type": "code",
   "execution_count": 37,
   "metadata": {},
   "outputs": [],
   "source": [
    "# make class predictions for X_test_dtm\n",
    "y_pred_class = lr.predict(X_test_dtm)"
   ]
  },
  {
   "cell_type": "code",
   "execution_count": 38,
   "metadata": {},
   "outputs": [
    {
     "data": {
      "text/plain": [
       "array([0.4767729 , 0.84418996, 0.05088871, ..., 0.10348731, 0.01190126,\n",
       "       0.6011416 ])"
      ]
     },
     "execution_count": 38,
     "metadata": {},
     "output_type": "execute_result"
    }
   ],
   "source": [
    "# calculate predicted probabilities for X_test_dtm (well calibrated)\n",
    "y_pred_prob = lr.predict_proba(X_test_dtm)[:, 1]\n",
    "y_pred_prob"
   ]
  },
  {
   "cell_type": "code",
   "execution_count": 39,
   "metadata": {},
   "outputs": [
    {
     "data": {
      "text/plain": [
       "0.8765128924750044"
      ]
     },
     "execution_count": 39,
     "metadata": {},
     "output_type": "execute_result"
    }
   ],
   "source": [
    "# calculate accuracy\n",
    "metrics.accuracy_score(y_test, y_pred_class)"
   ]
  },
  {
   "cell_type": "code",
   "execution_count": 40,
   "metadata": {},
   "outputs": [
    {
     "data": {
      "text/plain": [
       "array([[2888,  523],\n",
       "       [ 181, 2109]], dtype=int64)"
      ]
     },
     "execution_count": 40,
     "metadata": {},
     "output_type": "execute_result"
    }
   ],
   "source": [
    "metrics.confusion_matrix(y_test, y_pred_class)"
   ]
  },
  {
   "cell_type": "code",
   "execution_count": 41,
   "metadata": {},
   "outputs": [
    {
     "name": "stdout",
     "output_type": "stream",
     "text": [
      "              precision    recall  f1-score   support\n",
      "\n",
      "           0       0.94      0.85      0.89      3411\n",
      "           1       0.80      0.92      0.86      2290\n",
      "\n",
      "   micro avg       0.88      0.88      0.88      5701\n",
      "   macro avg       0.87      0.88      0.87      5701\n",
      "weighted avg       0.88      0.88      0.88      5701\n",
      "\n"
     ]
    }
   ],
   "source": [
    "# print the classification report\n",
    "print(metrics.classification_report(y_test, y_pred_class))"
   ]
  },
  {
   "cell_type": "code",
   "execution_count": 42,
   "metadata": {},
   "outputs": [
    {
     "data": {
      "text/plain": [
       "0.9384575845677805"
      ]
     },
     "execution_count": 42,
     "metadata": {},
     "output_type": "execute_result"
    }
   ],
   "source": [
    "# calculate AUC\n",
    "metrics.roc_auc_score(y_test, y_pred_prob)"
   ]
  },
  {
   "cell_type": "code",
   "execution_count": 43,
   "metadata": {},
   "outputs": [
    {
     "name": "stdout",
     "output_type": "stream",
     "text": [
      "Wall time: 4 ms\n"
     ]
    },
    {
     "data": {
      "text/plain": [
       "KNeighborsClassifier(algorithm='auto', leaf_size=30, metric='minkowski',\n",
       "           metric_params=None, n_jobs=None, n_neighbors=2, p=2,\n",
       "           weights='distance')"
      ]
     },
     "execution_count": 43,
     "metadata": {},
     "output_type": "execute_result"
    }
   ],
   "source": [
    "from sklearn.neighbors import KNeighborsClassifier  \n",
    "kn = KNeighborsClassifier(weights='distance', n_neighbors=2)  \n",
    "%time kn.fit(X_train_dtm, y_train)"
   ]
  },
  {
   "cell_type": "code",
   "execution_count": 44,
   "metadata": {},
   "outputs": [],
   "source": [
    "y_pred_class = kn.predict(X_test_dtm)"
   ]
  },
  {
   "cell_type": "code",
   "execution_count": 45,
   "metadata": {},
   "outputs": [
    {
     "data": {
      "text/plain": [
       "0.7963515172776706"
      ]
     },
     "execution_count": 45,
     "metadata": {},
     "output_type": "execute_result"
    }
   ],
   "source": [
    "metrics.accuracy_score(y_test, y_pred_class)"
   ]
  },
  {
   "cell_type": "code",
   "execution_count": 46,
   "metadata": {},
   "outputs": [
    {
     "data": {
      "text/plain": [
       "array([[2389, 1022],\n",
       "       [ 139, 2151]], dtype=int64)"
      ]
     },
     "execution_count": 46,
     "metadata": {},
     "output_type": "execute_result"
    }
   ],
   "source": [
    "metrics.confusion_matrix(y_test, y_pred_class)"
   ]
  },
  {
   "cell_type": "code",
   "execution_count": 47,
   "metadata": {},
   "outputs": [
    {
     "name": "stdout",
     "output_type": "stream",
     "text": [
      "              precision    recall  f1-score   support\n",
      "\n",
      "           0       0.95      0.70      0.80      3411\n",
      "           1       0.68      0.94      0.79      2290\n",
      "\n",
      "   micro avg       0.80      0.80      0.80      5701\n",
      "   macro avg       0.81      0.82      0.80      5701\n",
      "weighted avg       0.84      0.80      0.80      5701\n",
      "\n"
     ]
    }
   ],
   "source": [
    "# print the classification report\n",
    "print(metrics.classification_report(y_test, y_pred_class))"
   ]
  },
  {
   "cell_type": "code",
   "execution_count": 48,
   "metadata": {},
   "outputs": [
    {
     "data": {
      "text/plain": [
       "0.9384575845677805"
      ]
     },
     "execution_count": 48,
     "metadata": {},
     "output_type": "execute_result"
    }
   ],
   "source": [
    "metrics.roc_auc_score(y_test, y_pred_prob)"
   ]
  },
  {
   "cell_type": "code",
   "execution_count": 49,
   "metadata": {},
   "outputs": [
    {
     "name": "stdout",
     "output_type": "stream",
     "text": [
      "Wall time: 7.92 s\n"
     ]
    },
    {
     "data": {
      "text/plain": [
       "DecisionTreeClassifier(class_weight=None, criterion='entropy', max_depth=None,\n",
       "            max_features=None, max_leaf_nodes=None,\n",
       "            min_impurity_decrease=0.0, min_impurity_split=None,\n",
       "            min_samples_leaf=1, min_samples_split=2,\n",
       "            min_weight_fraction_leaf=0.0, presort=False, random_state=None,\n",
       "            splitter='best')"
      ]
     },
     "execution_count": 49,
     "metadata": {},
     "output_type": "execute_result"
    }
   ],
   "source": [
    "from sklearn import tree\n",
    "dc = tree.DecisionTreeClassifier(criterion='entropy')\n",
    "%time dc.fit(X_train_dtm, y_train)"
   ]
  },
  {
   "cell_type": "code",
   "execution_count": 50,
   "metadata": {},
   "outputs": [],
   "source": [
    "y_pred_class = dc.predict(X_test_dtm)"
   ]
  },
  {
   "cell_type": "code",
   "execution_count": 51,
   "metadata": {},
   "outputs": [
    {
     "data": {
      "text/plain": [
       "0.8319593053850202"
      ]
     },
     "execution_count": 51,
     "metadata": {},
     "output_type": "execute_result"
    }
   ],
   "source": [
    "metrics.accuracy_score(y_test, y_pred_class)"
   ]
  },
  {
   "cell_type": "code",
   "execution_count": 52,
   "metadata": {},
   "outputs": [
    {
     "data": {
      "text/plain": [
       "array([[2587,  824],\n",
       "       [ 134, 2156]], dtype=int64)"
      ]
     },
     "execution_count": 52,
     "metadata": {},
     "output_type": "execute_result"
    }
   ],
   "source": [
    "metrics.confusion_matrix(y_test, y_pred_class)"
   ]
  },
  {
   "cell_type": "code",
   "execution_count": 53,
   "metadata": {},
   "outputs": [
    {
     "name": "stdout",
     "output_type": "stream",
     "text": [
      "              precision    recall  f1-score   support\n",
      "\n",
      "           0       0.95      0.76      0.84      3411\n",
      "           1       0.72      0.94      0.82      2290\n",
      "\n",
      "   micro avg       0.83      0.83      0.83      5701\n",
      "   macro avg       0.84      0.85      0.83      5701\n",
      "weighted avg       0.86      0.83      0.83      5701\n",
      "\n"
     ]
    }
   ],
   "source": [
    "# print the classification report\n",
    "print(metrics.classification_report(y_test, y_pred_class))"
   ]
  },
  {
   "cell_type": "code",
   "execution_count": 54,
   "metadata": {},
   "outputs": [
    {
     "data": {
      "text/plain": [
       "0.9384575845677805"
      ]
     },
     "execution_count": 54,
     "metadata": {},
     "output_type": "execute_result"
    }
   ],
   "source": [
    "metrics.roc_auc_score(y_test, y_pred_prob)"
   ]
  },
  {
   "cell_type": "code",
   "execution_count": 55,
   "metadata": {},
   "outputs": [
    {
     "name": "stdout",
     "output_type": "stream",
     "text": [
      "Wall time: 903 ms\n"
     ]
    },
    {
     "data": {
      "text/plain": [
       "LinearSVC(C=1.0, class_weight=None, dual=True, fit_intercept=True,\n",
       "     intercept_scaling=1, loss='squared_hinge', max_iter=1000,\n",
       "     multi_class='ovr', penalty='l2', random_state=None, tol=0.0001,\n",
       "     verbose=0)"
      ]
     },
     "execution_count": 55,
     "metadata": {},
     "output_type": "execute_result"
    }
   ],
   "source": [
    "from sklearn import svm\n",
    "svl = svm.LinearSVC()\n",
    "%time svl.fit(X_train_dtm, y_train)"
   ]
  },
  {
   "cell_type": "code",
   "execution_count": 56,
   "metadata": {},
   "outputs": [],
   "source": [
    "y_pred_class = svl.predict(X_test_dtm)"
   ]
  },
  {
   "cell_type": "code",
   "execution_count": 57,
   "metadata": {},
   "outputs": [
    {
     "data": {
      "text/plain": [
       "0.8707244343097702"
      ]
     },
     "execution_count": 57,
     "metadata": {},
     "output_type": "execute_result"
    }
   ],
   "source": [
    "metrics.accuracy_score(y_test, y_pred_class)"
   ]
  },
  {
   "cell_type": "code",
   "execution_count": 58,
   "metadata": {},
   "outputs": [
    {
     "data": {
      "text/plain": [
       "array([[2814,  597],\n",
       "       [ 140, 2150]], dtype=int64)"
      ]
     },
     "execution_count": 58,
     "metadata": {},
     "output_type": "execute_result"
    }
   ],
   "source": [
    "metrics.confusion_matrix(y_test, y_pred_class)"
   ]
  },
  {
   "cell_type": "code",
   "execution_count": 59,
   "metadata": {},
   "outputs": [
    {
     "name": "stdout",
     "output_type": "stream",
     "text": [
      "              precision    recall  f1-score   support\n",
      "\n",
      "           0       0.95      0.82      0.88      3411\n",
      "           1       0.78      0.94      0.85      2290\n",
      "\n",
      "   micro avg       0.87      0.87      0.87      5701\n",
      "   macro avg       0.87      0.88      0.87      5701\n",
      "weighted avg       0.88      0.87      0.87      5701\n",
      "\n"
     ]
    }
   ],
   "source": [
    "# print the classification report\n",
    "print(metrics.classification_report(y_test, y_pred_class))"
   ]
  },
  {
   "cell_type": "code",
   "execution_count": 60,
   "metadata": {},
   "outputs": [
    {
     "data": {
      "text/plain": [
       "0.9384575845677805"
      ]
     },
     "execution_count": 60,
     "metadata": {},
     "output_type": "execute_result"
    }
   ],
   "source": [
    "metrics.roc_auc_score(y_test, y_pred_prob)"
   ]
  },
  {
   "cell_type": "code",
   "execution_count": 61,
   "metadata": {},
   "outputs": [
    {
     "name": "stdout",
     "output_type": "stream",
     "text": [
      "Wall time: 1min 21s\n"
     ]
    },
    {
     "data": {
      "text/plain": [
       "SVC(C=1.0, cache_size=200, class_weight=None, coef0=0.0,\n",
       "  decision_function_shape='ovr', degree=3, gamma=10, kernel='rbf',\n",
       "  max_iter=-1, probability=False, random_state=None, shrinking=True,\n",
       "  tol=0.001, verbose=False)"
      ]
     },
     "execution_count": 61,
     "metadata": {},
     "output_type": "execute_result"
    }
   ],
   "source": [
    "sv = svm.SVC(gamma = 10)\n",
    "%time sv.fit(X_train_dtm, y_train)"
   ]
  },
  {
   "cell_type": "code",
   "execution_count": 62,
   "metadata": {},
   "outputs": [],
   "source": [
    "#import pickle\n",
    "#filename = 'finalized_model.sav'\n",
    "#pickle.dump(sv, open(filename, 'wb'))"
   ]
  },
  {
   "cell_type": "code",
   "execution_count": 63,
   "metadata": {},
   "outputs": [],
   "source": [
    "y_pred_class = sv.predict(X_test_dtm)"
   ]
  },
  {
   "cell_type": "code",
   "execution_count": 64,
   "metadata": {},
   "outputs": [
    {
     "data": {
      "text/plain": [
       "0.9473776530433258"
      ]
     },
     "execution_count": 64,
     "metadata": {},
     "output_type": "execute_result"
    }
   ],
   "source": [
    "metrics.accuracy_score(y_test, y_pred_class)"
   ]
  },
  {
   "cell_type": "code",
   "execution_count": 65,
   "metadata": {},
   "outputs": [
    {
     "data": {
      "text/plain": [
       "array([[3354,   57],\n",
       "       [ 243, 2047]], dtype=int64)"
      ]
     },
     "execution_count": 65,
     "metadata": {},
     "output_type": "execute_result"
    }
   ],
   "source": [
    "metrics.confusion_matrix(y_test, y_pred_class)"
   ]
  },
  {
   "cell_type": "code",
   "execution_count": 66,
   "metadata": {},
   "outputs": [
    {
     "name": "stdout",
     "output_type": "stream",
     "text": [
      "              precision    recall  f1-score   support\n",
      "\n",
      "           0       0.93      0.98      0.96      3411\n",
      "           1       0.97      0.89      0.93      2290\n",
      "\n",
      "   micro avg       0.95      0.95      0.95      5701\n",
      "   macro avg       0.95      0.94      0.94      5701\n",
      "weighted avg       0.95      0.95      0.95      5701\n",
      "\n"
     ]
    }
   ],
   "source": [
    "# print the classification report\n",
    "print(metrics.classification_report(y_test, y_pred_class))"
   ]
  },
  {
   "cell_type": "markdown",
   "metadata": {},
   "source": [
    "## Examining a model for further insight\n"
   ]
  },
  {
   "cell_type": "code",
   "execution_count": 67,
   "metadata": {},
   "outputs": [
    {
     "data": {
      "text/plain": [
       "54917"
      ]
     },
     "execution_count": 67,
     "metadata": {},
     "output_type": "execute_result"
    }
   ],
   "source": [
    "# store the vocabulary of X_train\n",
    "X_train_tokens = vect.get_feature_names()\n",
    "len(X_train_tokens)"
   ]
  },
  {
   "cell_type": "code",
   "execution_count": 68,
   "metadata": {},
   "outputs": [
    {
     "ename": "SyntaxError",
     "evalue": "invalid syntax (<ipython-input-68-3fa98ffab33d>, line 1)",
     "output_type": "error",
     "traceback": [
      "\u001b[1;36m  File \u001b[1;32m\"<ipython-input-68-3fa98ffab33d>\"\u001b[1;36m, line \u001b[1;32m1\u001b[0m\n\u001b[1;33m    Nonbullying materials classified as bullying)\u001b[0m\n\u001b[1;37m                        ^\u001b[0m\n\u001b[1;31mSyntaxError\u001b[0m\u001b[1;31m:\u001b[0m invalid syntax\n"
     ]
    }
   ],
   "source": [
    "Nonbullying materials classified as bullying)\n",
    "X_test[y_test < y_pred_class].head(10)"
   ]
  },
  {
   "cell_type": "code",
   "execution_count": 69,
   "metadata": {},
   "outputs": [
    {
     "ename": "SyntaxError",
     "evalue": "invalid syntax (<ipython-input-69-68a981429584>, line 1)",
     "output_type": "error",
     "traceback": [
      "\u001b[1;36m  File \u001b[1;32m\"<ipython-input-69-68a981429584>\"\u001b[1;36m, line \u001b[1;32m1\u001b[0m\n\u001b[1;33m    (bullying materials classified as nonbullying)\u001b[0m\n\u001b[1;37m                      ^\u001b[0m\n\u001b[1;31mSyntaxError\u001b[0m\u001b[1;31m:\u001b[0m invalid syntax\n"
     ]
    }
   ],
   "source": [
    "(bullying materials classified as nonbullying)\n",
    "X_test[y_test > y_pred_class].head(10)"
   ]
  },
  {
   "cell_type": "code",
   "execution_count": 70,
   "metadata": {
    "scrolled": true
   },
   "outputs": [
    {
     "name": "stdout",
     "output_type": "stream",
     "text": [
      "['aaand', 'aaand needa', 'aaargh', 'aaarrrg', 'aah', 'aah actual', 'aah twitorfitcom', 'aardvark', 'aardvark discont', 'aargh', 'aargh hate', 'aaron', 'aaron carter', 'aaron hugest', 'aaronag', 'aaronag sure', 'aarontait', 'aarontait come', 'aawwhh', 'aawwhh damn', 'abandon', 'abandon wilder', 'abbey', 'abbey bier', 'abbi', 'abbi aint', 'abcd', 'abcd right', 'abid', 'abid famili', 'abil', 'abil busi', 'abil fli', 'abil immov', 'abil kick', 'abil print', 'abil work', 'abl', 'abl bare', 'abl basic', 'abl bath', 'abl chang', 'abl connect', 'abl control', 'abl damn', 'abl drive', 'abl fli', 'abl half', 'abl hide', 'abl ive', 'abl know', 'abl pull', 'abl resist', 'abl retriev', 'abl spend', 'abl talk', 'abl telepath', 'abl view', 'abl walk', 'abort', 'abour', 'abour retir', 'aboustli', 'aboustli love', 'aboutnow', 'abouty', 'abovedalaw', 'abovedalaw iamdalaw', 'abraham', 'abraham lincoln', 'abram', 'abram scorses', 'abrill', 'abrill iloveyhuuu', 'abs', 'abs uncomfort', 'absit', 'absit porn', 'absolut', 'absolut idea', 'absolut insaneh', 'absolut necessarytweetsthat', 'absolut not', 'absolut point', 'absolut power', 'absolut suck', 'absolut think', 'absorb', 'absurd', 'absurd hate', 'abt', 'abt fone', 'abund', 'abund httprurlorgkr', 'abus', 'abus adopt', 'abus but', 'abus parent', 'abus self', 'academi']\n"
     ]
    }
   ],
   "source": [
    "# examine the first 100 tokens\n",
    "print(X_train_tokens[0:100])"
   ]
  },
  {
   "cell_type": "code",
   "execution_count": 71,
   "metadata": {},
   "outputs": [
    {
     "name": "stdout",
     "output_type": "stream",
     "text": [
      "['yurself', 'yuu', 'yuu luh', 'yuu meann', 'yuu wannnaa', 'yuu wit', 'yuuu', 'yuuu got', 'yuuu moreep', 'yuuuaaa', 'yuuuaaa akekek', 'yvett', 'yvett damn', 'yvonn', 'yvonn littl', 'yvonn that', 'ywan', 'ywan lmao', 'yyyyou', 'yyyyou love', 'zac', 'zac efron', 'zach', 'zach gettin', 'zach tell', 'zacki', 'zacki sorri', 'zackli', 'zackli thing', 'zak', 'zak come', 'zarlom', 'zarlom your', 'zco', 'zealand', 'zebra', 'zebra cross', 'zebra lol', 'zebra man', 'zee', 'zee hair', 'zeno', 'zeno finalist', 'zero', 'zero absolut', 'zero alright', 'zero long', 'zerooooo', 'zest', 'zest life', 'zig', 'zig idri', 'zimbabw', 'zimbabw put', 'zip', 'zip fat', 'zipper', 'zipper peopl', 'zipper sure', 'zippo', 'zippo fuel', 'zit', 'zit chin', 'zit like', 'zodiac', 'zodiac sign', 'zomb', 'zomb invad', 'zombi', 'zombi cruel', 'zombi cum', 'zombi eat', 'zombi flick', 'zombi freak', 'zombi haha', 'zombi movi', 'zomgon', 'zomgz', 'zomgz fontfe', 'zon', 'zon raar', 'zone', 'zone bitch', 'zone shoot', 'zoom', 'zoom brisban', 'zoom pan', 'zro', 'zro rli', 'zune', 'zune dont', 'zune pas', 'zune zune', 'zzzz', 'zzzz snore', 'zzzzzz', 'zzzzzz zzzz', 'zzzzzzzz', 'être', 'être foll']\n"
     ]
    }
   ],
   "source": [
    "# examine the last 100 tokens\n",
    "print(X_train_tokens[-100:])"
   ]
  },
  {
   "cell_type": "code",
   "execution_count": 72,
   "metadata": {},
   "outputs": [
    {
     "data": {
      "text/plain": [
       "array([[0., 0., 1., ..., 0., 0., 0.],\n",
       "       [1., 1., 0., ..., 1., 1., 1.]])"
      ]
     },
     "execution_count": 72,
     "metadata": {},
     "output_type": "execute_result"
    }
   ],
   "source": [
    "# Naive Bayes counts the number of times each token appears in each class\n",
    "nb.feature_count_"
   ]
  },
  {
   "cell_type": "code",
   "execution_count": 73,
   "metadata": {},
   "outputs": [
    {
     "data": {
      "text/plain": [
       "(2, 54917)"
      ]
     },
     "execution_count": 73,
     "metadata": {},
     "output_type": "execute_result"
    }
   ],
   "source": [
    "# rows represent classes, columns represent tokens\n",
    "nb.feature_count_.shape"
   ]
  },
  {
   "cell_type": "code",
   "execution_count": 74,
   "metadata": {},
   "outputs": [
    {
     "data": {
      "text/plain": [
       "array([0., 0., 1., ..., 0., 0., 0.])"
      ]
     },
     "execution_count": 74,
     "metadata": {},
     "output_type": "execute_result"
    }
   ],
   "source": [
    "# number of times each token appears across all Nonbullying messages\n",
    "nonbullying_token_count = nb.feature_count_[0, :]\n",
    "nonbullying_token_count"
   ]
  },
  {
   "cell_type": "code",
   "execution_count": 75,
   "metadata": {},
   "outputs": [
    {
     "data": {
      "text/plain": [
       "array([1., 1., 0., ..., 1., 1., 1.])"
      ]
     },
     "execution_count": 75,
     "metadata": {},
     "output_type": "execute_result"
    }
   ],
   "source": [
    "# number of times each token appears across all Bullying messages\n",
    "bullying_token_count = nb.feature_count_[1, :]\n",
    "bullying_token_count"
   ]
  },
  {
   "cell_type": "code",
   "execution_count": 76,
   "metadata": {},
   "outputs": [
    {
     "data": {
      "text/html": [
       "<div>\n",
       "<style scoped>\n",
       "    .dataframe tbody tr th:only-of-type {\n",
       "        vertical-align: middle;\n",
       "    }\n",
       "\n",
       "    .dataframe tbody tr th {\n",
       "        vertical-align: top;\n",
       "    }\n",
       "\n",
       "    .dataframe thead th {\n",
       "        text-align: right;\n",
       "    }\n",
       "</style>\n",
       "<table border=\"1\" class=\"dataframe\">\n",
       "  <thead>\n",
       "    <tr style=\"text-align: right;\">\n",
       "      <th></th>\n",
       "      <th>Nonbullying</th>\n",
       "      <th>Bullying</th>\n",
       "    </tr>\n",
       "    <tr>\n",
       "      <th>token</th>\n",
       "      <th></th>\n",
       "      <th></th>\n",
       "    </tr>\n",
       "  </thead>\n",
       "  <tbody>\n",
       "    <tr>\n",
       "      <th>aaand</th>\n",
       "      <td>0.0</td>\n",
       "      <td>1.0</td>\n",
       "    </tr>\n",
       "    <tr>\n",
       "      <th>aaand needa</th>\n",
       "      <td>0.0</td>\n",
       "      <td>1.0</td>\n",
       "    </tr>\n",
       "    <tr>\n",
       "      <th>aaargh</th>\n",
       "      <td>1.0</td>\n",
       "      <td>0.0</td>\n",
       "    </tr>\n",
       "    <tr>\n",
       "      <th>aaarrrg</th>\n",
       "      <td>0.0</td>\n",
       "      <td>2.0</td>\n",
       "    </tr>\n",
       "    <tr>\n",
       "      <th>aah</th>\n",
       "      <td>1.0</td>\n",
       "      <td>2.0</td>\n",
       "    </tr>\n",
       "    <tr>\n",
       "      <th>aah actual</th>\n",
       "      <td>0.0</td>\n",
       "      <td>2.0</td>\n",
       "    </tr>\n",
       "    <tr>\n",
       "      <th>aah twitorfitcom</th>\n",
       "      <td>1.0</td>\n",
       "      <td>0.0</td>\n",
       "    </tr>\n",
       "    <tr>\n",
       "      <th>aardvark</th>\n",
       "      <td>0.0</td>\n",
       "      <td>3.0</td>\n",
       "    </tr>\n",
       "    <tr>\n",
       "      <th>aardvark discont</th>\n",
       "      <td>0.0</td>\n",
       "      <td>3.0</td>\n",
       "    </tr>\n",
       "    <tr>\n",
       "      <th>aargh</th>\n",
       "      <td>1.0</td>\n",
       "      <td>0.0</td>\n",
       "    </tr>\n",
       "  </tbody>\n",
       "</table>\n",
       "</div>"
      ],
      "text/plain": [
       "                  Nonbullying  Bullying\n",
       "token                                  \n",
       "aaand                     0.0       1.0\n",
       "aaand needa               0.0       1.0\n",
       "aaargh                    1.0       0.0\n",
       "aaarrrg                   0.0       2.0\n",
       "aah                       1.0       2.0\n",
       "aah actual                0.0       2.0\n",
       "aah twitorfitcom          1.0       0.0\n",
       "aardvark                  0.0       3.0\n",
       "aardvark discont          0.0       3.0\n",
       "aargh                     1.0       0.0"
      ]
     },
     "execution_count": 76,
     "metadata": {},
     "output_type": "execute_result"
    }
   ],
   "source": [
    "# create a DataFrame of tokens with their separate counts\n",
    "tokens = pd.DataFrame({'token':X_train_tokens, 'Nonbullying':nonbullying_token_count, 'Bullying':bullying_token_count}).set_index('token')\n",
    "tokens.head(10)"
   ]
  },
  {
   "cell_type": "code",
   "execution_count": 77,
   "metadata": {},
   "outputs": [
    {
     "data": {
      "text/html": [
       "<div>\n",
       "<style scoped>\n",
       "    .dataframe tbody tr th:only-of-type {\n",
       "        vertical-align: middle;\n",
       "    }\n",
       "\n",
       "    .dataframe tbody tr th {\n",
       "        vertical-align: top;\n",
       "    }\n",
       "\n",
       "    .dataframe thead th {\n",
       "        text-align: right;\n",
       "    }\n",
       "</style>\n",
       "<table border=\"1\" class=\"dataframe\">\n",
       "  <thead>\n",
       "    <tr style=\"text-align: right;\">\n",
       "      <th></th>\n",
       "      <th>Nonbullying</th>\n",
       "      <th>Bullying</th>\n",
       "    </tr>\n",
       "    <tr>\n",
       "      <th>token</th>\n",
       "      <th></th>\n",
       "      <th></th>\n",
       "    </tr>\n",
       "  </thead>\n",
       "  <tbody>\n",
       "    <tr>\n",
       "      <th>love dream</th>\n",
       "      <td>0.0</td>\n",
       "      <td>3.0</td>\n",
       "    </tr>\n",
       "    <tr>\n",
       "      <th>playa hate</th>\n",
       "      <td>1.0</td>\n",
       "      <td>0.0</td>\n",
       "    </tr>\n",
       "    <tr>\n",
       "      <th>hip</th>\n",
       "      <td>3.0</td>\n",
       "      <td>4.0</td>\n",
       "    </tr>\n",
       "    <tr>\n",
       "      <th>damn peopl</th>\n",
       "      <td>1.0</td>\n",
       "      <td>0.0</td>\n",
       "    </tr>\n",
       "    <tr>\n",
       "      <th>thing autolaunch</th>\n",
       "      <td>1.0</td>\n",
       "      <td>0.0</td>\n",
       "    </tr>\n",
       "    <tr>\n",
       "      <th>supr</th>\n",
       "      <td>1.0</td>\n",
       "      <td>0.0</td>\n",
       "    </tr>\n",
       "    <tr>\n",
       "      <th>gonna nerd</th>\n",
       "      <td>0.0</td>\n",
       "      <td>2.0</td>\n",
       "    </tr>\n",
       "    <tr>\n",
       "      <th>stage gain</th>\n",
       "      <td>0.0</td>\n",
       "      <td>2.0</td>\n",
       "    </tr>\n",
       "    <tr>\n",
       "      <th>pick radish</th>\n",
       "      <td>0.0</td>\n",
       "      <td>2.0</td>\n",
       "    </tr>\n",
       "    <tr>\n",
       "      <th>lmao hahahahahahahahahayour</th>\n",
       "      <td>1.0</td>\n",
       "      <td>0.0</td>\n",
       "    </tr>\n",
       "  </tbody>\n",
       "</table>\n",
       "</div>"
      ],
      "text/plain": [
       "                             Nonbullying  Bullying\n",
       "token                                             \n",
       "love dream                           0.0       3.0\n",
       "playa hate                           1.0       0.0\n",
       "hip                                  3.0       4.0\n",
       "damn peopl                           1.0       0.0\n",
       "thing autolaunch                     1.0       0.0\n",
       "supr                                 1.0       0.0\n",
       "gonna nerd                           0.0       2.0\n",
       "stage gain                           0.0       2.0\n",
       "pick radish                          0.0       2.0\n",
       "lmao hahahahahahahahahayour          1.0       0.0"
      ]
     },
     "execution_count": 77,
     "metadata": {},
     "output_type": "execute_result"
    }
   ],
   "source": [
    "# examine 10 random DataFrame rows\n",
    "tokens.sample(10, random_state=100)"
   ]
  },
  {
   "cell_type": "code",
   "execution_count": 78,
   "metadata": {},
   "outputs": [
    {
     "data": {
      "text/plain": [
       "array([7751., 5549.])"
      ]
     },
     "execution_count": 78,
     "metadata": {},
     "output_type": "execute_result"
    }
   ],
   "source": [
    "# Naive Bayes counts the number of observations in each class\n",
    "nb.class_count_"
   ]
  },
  {
   "cell_type": "code",
   "execution_count": 79,
   "metadata": {},
   "outputs": [
    {
     "data": {
      "text/html": [
       "<div>\n",
       "<style scoped>\n",
       "    .dataframe tbody tr th:only-of-type {\n",
       "        vertical-align: middle;\n",
       "    }\n",
       "\n",
       "    .dataframe tbody tr th {\n",
       "        vertical-align: top;\n",
       "    }\n",
       "\n",
       "    .dataframe thead th {\n",
       "        text-align: right;\n",
       "    }\n",
       "</style>\n",
       "<table border=\"1\" class=\"dataframe\">\n",
       "  <thead>\n",
       "    <tr style=\"text-align: right;\">\n",
       "      <th></th>\n",
       "      <th>Nonbullying</th>\n",
       "      <th>Bullying</th>\n",
       "    </tr>\n",
       "    <tr>\n",
       "      <th>token</th>\n",
       "      <th></th>\n",
       "      <th></th>\n",
       "    </tr>\n",
       "  </thead>\n",
       "  <tbody>\n",
       "    <tr>\n",
       "      <th>love dream</th>\n",
       "      <td>1.0</td>\n",
       "      <td>4.0</td>\n",
       "    </tr>\n",
       "    <tr>\n",
       "      <th>playa hate</th>\n",
       "      <td>2.0</td>\n",
       "      <td>1.0</td>\n",
       "    </tr>\n",
       "    <tr>\n",
       "      <th>hip</th>\n",
       "      <td>4.0</td>\n",
       "      <td>5.0</td>\n",
       "    </tr>\n",
       "    <tr>\n",
       "      <th>damn peopl</th>\n",
       "      <td>2.0</td>\n",
       "      <td>1.0</td>\n",
       "    </tr>\n",
       "    <tr>\n",
       "      <th>thing autolaunch</th>\n",
       "      <td>2.0</td>\n",
       "      <td>1.0</td>\n",
       "    </tr>\n",
       "    <tr>\n",
       "      <th>supr</th>\n",
       "      <td>2.0</td>\n",
       "      <td>1.0</td>\n",
       "    </tr>\n",
       "    <tr>\n",
       "      <th>gonna nerd</th>\n",
       "      <td>1.0</td>\n",
       "      <td>3.0</td>\n",
       "    </tr>\n",
       "    <tr>\n",
       "      <th>stage gain</th>\n",
       "      <td>1.0</td>\n",
       "      <td>3.0</td>\n",
       "    </tr>\n",
       "    <tr>\n",
       "      <th>pick radish</th>\n",
       "      <td>1.0</td>\n",
       "      <td>3.0</td>\n",
       "    </tr>\n",
       "    <tr>\n",
       "      <th>lmao hahahahahahahahahayour</th>\n",
       "      <td>2.0</td>\n",
       "      <td>1.0</td>\n",
       "    </tr>\n",
       "  </tbody>\n",
       "</table>\n",
       "</div>"
      ],
      "text/plain": [
       "                             Nonbullying  Bullying\n",
       "token                                             \n",
       "love dream                           1.0       4.0\n",
       "playa hate                           2.0       1.0\n",
       "hip                                  4.0       5.0\n",
       "damn peopl                           2.0       1.0\n",
       "thing autolaunch                     2.0       1.0\n",
       "supr                                 2.0       1.0\n",
       "gonna nerd                           1.0       3.0\n",
       "stage gain                           1.0       3.0\n",
       "pick radish                          1.0       3.0\n",
       "lmao hahahahahahahahahayour          2.0       1.0"
      ]
     },
     "execution_count": 79,
     "metadata": {},
     "output_type": "execute_result"
    }
   ],
   "source": [
    "# add 1 to counts to avoid dividing by 0\n",
    "tokens['Nonbullying'] = tokens.Nonbullying + 1\n",
    "tokens['Bullying'] = tokens.Bullying + 1\n",
    "tokens.sample(10, random_state=100)"
   ]
  },
  {
   "cell_type": "code",
   "execution_count": 80,
   "metadata": {},
   "outputs": [
    {
     "data": {
      "text/html": [
       "<div>\n",
       "<style scoped>\n",
       "    .dataframe tbody tr th:only-of-type {\n",
       "        vertical-align: middle;\n",
       "    }\n",
       "\n",
       "    .dataframe tbody tr th {\n",
       "        vertical-align: top;\n",
       "    }\n",
       "\n",
       "    .dataframe thead th {\n",
       "        text-align: right;\n",
       "    }\n",
       "</style>\n",
       "<table border=\"1\" class=\"dataframe\">\n",
       "  <thead>\n",
       "    <tr style=\"text-align: right;\">\n",
       "      <th></th>\n",
       "      <th>Nonbullying</th>\n",
       "      <th>Bullying</th>\n",
       "    </tr>\n",
       "    <tr>\n",
       "      <th>token</th>\n",
       "      <th></th>\n",
       "      <th></th>\n",
       "    </tr>\n",
       "  </thead>\n",
       "  <tbody>\n",
       "    <tr>\n",
       "      <th>love dream</th>\n",
       "      <td>0.000129</td>\n",
       "      <td>0.000721</td>\n",
       "    </tr>\n",
       "    <tr>\n",
       "      <th>playa hate</th>\n",
       "      <td>0.000258</td>\n",
       "      <td>0.000180</td>\n",
       "    </tr>\n",
       "    <tr>\n",
       "      <th>hip</th>\n",
       "      <td>0.000516</td>\n",
       "      <td>0.000901</td>\n",
       "    </tr>\n",
       "    <tr>\n",
       "      <th>damn peopl</th>\n",
       "      <td>0.000258</td>\n",
       "      <td>0.000180</td>\n",
       "    </tr>\n",
       "    <tr>\n",
       "      <th>thing autolaunch</th>\n",
       "      <td>0.000258</td>\n",
       "      <td>0.000180</td>\n",
       "    </tr>\n",
       "    <tr>\n",
       "      <th>supr</th>\n",
       "      <td>0.000258</td>\n",
       "      <td>0.000180</td>\n",
       "    </tr>\n",
       "    <tr>\n",
       "      <th>gonna nerd</th>\n",
       "      <td>0.000129</td>\n",
       "      <td>0.000541</td>\n",
       "    </tr>\n",
       "    <tr>\n",
       "      <th>stage gain</th>\n",
       "      <td>0.000129</td>\n",
       "      <td>0.000541</td>\n",
       "    </tr>\n",
       "    <tr>\n",
       "      <th>pick radish</th>\n",
       "      <td>0.000129</td>\n",
       "      <td>0.000541</td>\n",
       "    </tr>\n",
       "    <tr>\n",
       "      <th>lmao hahahahahahahahahayour</th>\n",
       "      <td>0.000258</td>\n",
       "      <td>0.000180</td>\n",
       "    </tr>\n",
       "  </tbody>\n",
       "</table>\n",
       "</div>"
      ],
      "text/plain": [
       "                             Nonbullying  Bullying\n",
       "token                                             \n",
       "love dream                      0.000129  0.000721\n",
       "playa hate                      0.000258  0.000180\n",
       "hip                             0.000516  0.000901\n",
       "damn peopl                      0.000258  0.000180\n",
       "thing autolaunch                0.000258  0.000180\n",
       "supr                            0.000258  0.000180\n",
       "gonna nerd                      0.000129  0.000541\n",
       "stage gain                      0.000129  0.000541\n",
       "pick radish                     0.000129  0.000541\n",
       "lmao hahahahahahahahahayour     0.000258  0.000180"
      ]
     },
     "execution_count": 80,
     "metadata": {},
     "output_type": "execute_result"
    }
   ],
   "source": [
    "# convert the bullying and non bullying counts into frequencies\n",
    "tokens['Nonbullying'] = tokens.Nonbullying / nb.class_count_[0]\n",
    "tokens['Bullying'] = tokens.Bullying / nb.class_count_[1]\n",
    "tokens.sample(10, random_state=100)"
   ]
  },
  {
   "cell_type": "code",
   "execution_count": 81,
   "metadata": {},
   "outputs": [
    {
     "data": {
      "text/html": [
       "<div>\n",
       "<style scoped>\n",
       "    .dataframe tbody tr th:only-of-type {\n",
       "        vertical-align: middle;\n",
       "    }\n",
       "\n",
       "    .dataframe tbody tr th {\n",
       "        vertical-align: top;\n",
       "    }\n",
       "\n",
       "    .dataframe thead th {\n",
       "        text-align: right;\n",
       "    }\n",
       "</style>\n",
       "<table border=\"1\" class=\"dataframe\">\n",
       "  <thead>\n",
       "    <tr style=\"text-align: right;\">\n",
       "      <th></th>\n",
       "      <th>Nonbullying</th>\n",
       "      <th>Bullying</th>\n",
       "      <th>Bullying_ratio</th>\n",
       "    </tr>\n",
       "    <tr>\n",
       "      <th>token</th>\n",
       "      <th></th>\n",
       "      <th></th>\n",
       "      <th></th>\n",
       "    </tr>\n",
       "  </thead>\n",
       "  <tbody>\n",
       "    <tr>\n",
       "      <th>love dream</th>\n",
       "      <td>0.000129</td>\n",
       "      <td>0.000721</td>\n",
       "      <td>5.587313</td>\n",
       "    </tr>\n",
       "    <tr>\n",
       "      <th>playa hate</th>\n",
       "      <td>0.000258</td>\n",
       "      <td>0.000180</td>\n",
       "      <td>0.698414</td>\n",
       "    </tr>\n",
       "    <tr>\n",
       "      <th>hip</th>\n",
       "      <td>0.000516</td>\n",
       "      <td>0.000901</td>\n",
       "      <td>1.746035</td>\n",
       "    </tr>\n",
       "    <tr>\n",
       "      <th>damn peopl</th>\n",
       "      <td>0.000258</td>\n",
       "      <td>0.000180</td>\n",
       "      <td>0.698414</td>\n",
       "    </tr>\n",
       "    <tr>\n",
       "      <th>thing autolaunch</th>\n",
       "      <td>0.000258</td>\n",
       "      <td>0.000180</td>\n",
       "      <td>0.698414</td>\n",
       "    </tr>\n",
       "    <tr>\n",
       "      <th>supr</th>\n",
       "      <td>0.000258</td>\n",
       "      <td>0.000180</td>\n",
       "      <td>0.698414</td>\n",
       "    </tr>\n",
       "    <tr>\n",
       "      <th>gonna nerd</th>\n",
       "      <td>0.000129</td>\n",
       "      <td>0.000541</td>\n",
       "      <td>4.190485</td>\n",
       "    </tr>\n",
       "    <tr>\n",
       "      <th>stage gain</th>\n",
       "      <td>0.000129</td>\n",
       "      <td>0.000541</td>\n",
       "      <td>4.190485</td>\n",
       "    </tr>\n",
       "    <tr>\n",
       "      <th>pick radish</th>\n",
       "      <td>0.000129</td>\n",
       "      <td>0.000541</td>\n",
       "      <td>4.190485</td>\n",
       "    </tr>\n",
       "    <tr>\n",
       "      <th>lmao hahahahahahahahahayour</th>\n",
       "      <td>0.000258</td>\n",
       "      <td>0.000180</td>\n",
       "      <td>0.698414</td>\n",
       "    </tr>\n",
       "  </tbody>\n",
       "</table>\n",
       "</div>"
      ],
      "text/plain": [
       "                             Nonbullying  Bullying  Bullying_ratio\n",
       "token                                                             \n",
       "love dream                      0.000129  0.000721        5.587313\n",
       "playa hate                      0.000258  0.000180        0.698414\n",
       "hip                             0.000516  0.000901        1.746035\n",
       "damn peopl                      0.000258  0.000180        0.698414\n",
       "thing autolaunch                0.000258  0.000180        0.698414\n",
       "supr                            0.000258  0.000180        0.698414\n",
       "gonna nerd                      0.000129  0.000541        4.190485\n",
       "stage gain                      0.000129  0.000541        4.190485\n",
       "pick radish                     0.000129  0.000541        4.190485\n",
       "lmao hahahahahahahahahayour     0.000258  0.000180        0.698414"
      ]
     },
     "execution_count": 81,
     "metadata": {},
     "output_type": "execute_result"
    }
   ],
   "source": [
    "# calculate the ratio of bullying for each token\n",
    "tokens['Bullying_ratio'] = tokens.Bullying / tokens.Nonbullying\n",
    "tokens.sample(10, random_state=100)"
   ]
  },
  {
   "cell_type": "code",
   "execution_count": 82,
   "metadata": {},
   "outputs": [
    {
     "data": {
      "text/html": [
       "<div>\n",
       "<style scoped>\n",
       "    .dataframe tbody tr th:only-of-type {\n",
       "        vertical-align: middle;\n",
       "    }\n",
       "\n",
       "    .dataframe tbody tr th {\n",
       "        vertical-align: top;\n",
       "    }\n",
       "\n",
       "    .dataframe thead th {\n",
       "        text-align: right;\n",
       "    }\n",
       "</style>\n",
       "<table border=\"1\" class=\"dataframe\">\n",
       "  <thead>\n",
       "    <tr style=\"text-align: right;\">\n",
       "      <th></th>\n",
       "      <th>Nonbullying</th>\n",
       "      <th>Bullying</th>\n",
       "      <th>Bullying_ratio</th>\n",
       "    </tr>\n",
       "    <tr>\n",
       "      <th>token</th>\n",
       "      <th></th>\n",
       "      <th></th>\n",
       "      <th></th>\n",
       "    </tr>\n",
       "  </thead>\n",
       "  <tbody>\n",
       "    <tr>\n",
       "      <th>kjfuck</th>\n",
       "      <td>0.000129</td>\n",
       "      <td>0.002343</td>\n",
       "      <td>18.158767</td>\n",
       "    </tr>\n",
       "    <tr>\n",
       "      <th>fuck dude</th>\n",
       "      <td>0.000129</td>\n",
       "      <td>0.002343</td>\n",
       "      <td>18.158767</td>\n",
       "    </tr>\n",
       "    <tr>\n",
       "      <th>whore whore</th>\n",
       "      <td>0.000129</td>\n",
       "      <td>0.002343</td>\n",
       "      <td>18.158767</td>\n",
       "    </tr>\n",
       "    <tr>\n",
       "      <th>bull</th>\n",
       "      <td>0.000129</td>\n",
       "      <td>0.002343</td>\n",
       "      <td>18.158767</td>\n",
       "    </tr>\n",
       "    <tr>\n",
       "      <th>fucker</th>\n",
       "      <td>0.000129</td>\n",
       "      <td>0.002343</td>\n",
       "      <td>18.158767</td>\n",
       "    </tr>\n",
       "    <tr>\n",
       "      <th>kjfuck time</th>\n",
       "      <td>0.000129</td>\n",
       "      <td>0.002343</td>\n",
       "      <td>18.158767</td>\n",
       "    </tr>\n",
       "    <tr>\n",
       "      <th>goddamn kjfuck</th>\n",
       "      <td>0.000129</td>\n",
       "      <td>0.002343</td>\n",
       "      <td>18.158767</td>\n",
       "    </tr>\n",
       "    <tr>\n",
       "      <th>hood</th>\n",
       "      <td>0.000129</td>\n",
       "      <td>0.001982</td>\n",
       "      <td>15.365111</td>\n",
       "    </tr>\n",
       "    <tr>\n",
       "      <th>think gay</th>\n",
       "      <td>0.000129</td>\n",
       "      <td>0.001982</td>\n",
       "      <td>15.365111</td>\n",
       "    </tr>\n",
       "    <tr>\n",
       "      <th>nyc</th>\n",
       "      <td>0.000129</td>\n",
       "      <td>0.001982</td>\n",
       "      <td>15.365111</td>\n",
       "    </tr>\n",
       "    <tr>\n",
       "      <th>shut fuck</th>\n",
       "      <td>0.000258</td>\n",
       "      <td>0.003965</td>\n",
       "      <td>15.365111</td>\n",
       "    </tr>\n",
       "    <tr>\n",
       "      <th>employ</th>\n",
       "      <td>0.000129</td>\n",
       "      <td>0.001982</td>\n",
       "      <td>15.365111</td>\n",
       "    </tr>\n",
       "    <tr>\n",
       "      <th>coincid</th>\n",
       "      <td>0.000129</td>\n",
       "      <td>0.001802</td>\n",
       "      <td>13.968283</td>\n",
       "    </tr>\n",
       "    <tr>\n",
       "      <th>lift</th>\n",
       "      <td>0.000129</td>\n",
       "      <td>0.001802</td>\n",
       "      <td>13.968283</td>\n",
       "    </tr>\n",
       "    <tr>\n",
       "      <th>embrac</th>\n",
       "      <td>0.000129</td>\n",
       "      <td>0.001802</td>\n",
       "      <td>13.968283</td>\n",
       "    </tr>\n",
       "    <tr>\n",
       "      <th>shit fuck</th>\n",
       "      <td>0.000129</td>\n",
       "      <td>0.001802</td>\n",
       "      <td>13.968283</td>\n",
       "    </tr>\n",
       "    <tr>\n",
       "      <th>epic fail</th>\n",
       "      <td>0.000129</td>\n",
       "      <td>0.001802</td>\n",
       "      <td>13.968283</td>\n",
       "    </tr>\n",
       "    <tr>\n",
       "      <th>dude dont</th>\n",
       "      <td>0.000129</td>\n",
       "      <td>0.001802</td>\n",
       "      <td>13.968283</td>\n",
       "    </tr>\n",
       "    <tr>\n",
       "      <th>fuck fuck</th>\n",
       "      <td>0.000516</td>\n",
       "      <td>0.006848</td>\n",
       "      <td>13.269868</td>\n",
       "    </tr>\n",
       "    <tr>\n",
       "      <th>vagina</th>\n",
       "      <td>0.000129</td>\n",
       "      <td>0.001622</td>\n",
       "      <td>12.571454</td>\n",
       "    </tr>\n",
       "    <tr>\n",
       "      <th>nye</th>\n",
       "      <td>0.000129</td>\n",
       "      <td>0.001622</td>\n",
       "      <td>12.571454</td>\n",
       "    </tr>\n",
       "    <tr>\n",
       "      <th>razor</th>\n",
       "      <td>0.000129</td>\n",
       "      <td>0.001622</td>\n",
       "      <td>12.571454</td>\n",
       "    </tr>\n",
       "    <tr>\n",
       "      <th>fuck face</th>\n",
       "      <td>0.000129</td>\n",
       "      <td>0.001622</td>\n",
       "      <td>12.571454</td>\n",
       "    </tr>\n",
       "    <tr>\n",
       "      <th>lulz lulz</th>\n",
       "      <td>0.000129</td>\n",
       "      <td>0.001622</td>\n",
       "      <td>12.571454</td>\n",
       "    </tr>\n",
       "    <tr>\n",
       "      <th>fuck god</th>\n",
       "      <td>0.000129</td>\n",
       "      <td>0.001622</td>\n",
       "      <td>12.571454</td>\n",
       "    </tr>\n",
       "    <tr>\n",
       "      <th>upgrad fuck</th>\n",
       "      <td>0.000129</td>\n",
       "      <td>0.001622</td>\n",
       "      <td>12.571454</td>\n",
       "    </tr>\n",
       "    <tr>\n",
       "      <th>lame as</th>\n",
       "      <td>0.000129</td>\n",
       "      <td>0.001622</td>\n",
       "      <td>12.571454</td>\n",
       "    </tr>\n",
       "    <tr>\n",
       "      <th>choke</th>\n",
       "      <td>0.000258</td>\n",
       "      <td>0.003064</td>\n",
       "      <td>11.873040</td>\n",
       "    </tr>\n",
       "    <tr>\n",
       "      <th>stop fuck</th>\n",
       "      <td>0.000129</td>\n",
       "      <td>0.001442</td>\n",
       "      <td>11.174626</td>\n",
       "    </tr>\n",
       "    <tr>\n",
       "      <th>insult</th>\n",
       "      <td>0.000129</td>\n",
       "      <td>0.001442</td>\n",
       "      <td>11.174626</td>\n",
       "    </tr>\n",
       "    <tr>\n",
       "      <th>...</th>\n",
       "      <td>...</td>\n",
       "      <td>...</td>\n",
       "      <td>...</td>\n",
       "    </tr>\n",
       "    <tr>\n",
       "      <th>rite</th>\n",
       "      <td>0.001290</td>\n",
       "      <td>0.000180</td>\n",
       "      <td>0.139683</td>\n",
       "    </tr>\n",
       "    <tr>\n",
       "      <th>elf</th>\n",
       "      <td>0.001290</td>\n",
       "      <td>0.000180</td>\n",
       "      <td>0.139683</td>\n",
       "    </tr>\n",
       "    <tr>\n",
       "      <th>stack</th>\n",
       "      <td>0.001419</td>\n",
       "      <td>0.000180</td>\n",
       "      <td>0.126984</td>\n",
       "    </tr>\n",
       "    <tr>\n",
       "      <th>but think</th>\n",
       "      <td>0.001419</td>\n",
       "      <td>0.000180</td>\n",
       "      <td>0.126984</td>\n",
       "    </tr>\n",
       "    <tr>\n",
       "      <th>not hate</th>\n",
       "      <td>0.001419</td>\n",
       "      <td>0.000180</td>\n",
       "      <td>0.126984</td>\n",
       "    </tr>\n",
       "    <tr>\n",
       "      <th>nahhh</th>\n",
       "      <td>0.001419</td>\n",
       "      <td>0.000180</td>\n",
       "      <td>0.126984</td>\n",
       "    </tr>\n",
       "    <tr>\n",
       "      <th>cream</th>\n",
       "      <td>0.001548</td>\n",
       "      <td>0.000180</td>\n",
       "      <td>0.116402</td>\n",
       "    </tr>\n",
       "    <tr>\n",
       "      <th>what best</th>\n",
       "      <td>0.001548</td>\n",
       "      <td>0.000180</td>\n",
       "      <td>0.116402</td>\n",
       "    </tr>\n",
       "    <tr>\n",
       "      <th>door</th>\n",
       "      <td>0.001548</td>\n",
       "      <td>0.000180</td>\n",
       "      <td>0.116402</td>\n",
       "    </tr>\n",
       "    <tr>\n",
       "      <th>physic</th>\n",
       "      <td>0.001548</td>\n",
       "      <td>0.000180</td>\n",
       "      <td>0.116402</td>\n",
       "    </tr>\n",
       "    <tr>\n",
       "      <th>yes</th>\n",
       "      <td>0.001548</td>\n",
       "      <td>0.000180</td>\n",
       "      <td>0.116402</td>\n",
       "    </tr>\n",
       "    <tr>\n",
       "      <th>orang</th>\n",
       "      <td>0.001548</td>\n",
       "      <td>0.000180</td>\n",
       "      <td>0.116402</td>\n",
       "    </tr>\n",
       "    <tr>\n",
       "      <th>good luck</th>\n",
       "      <td>0.001548</td>\n",
       "      <td>0.000180</td>\n",
       "      <td>0.116402</td>\n",
       "    </tr>\n",
       "    <tr>\n",
       "      <th>ate</th>\n",
       "      <td>0.001548</td>\n",
       "      <td>0.000180</td>\n",
       "      <td>0.116402</td>\n",
       "    </tr>\n",
       "    <tr>\n",
       "      <th>nurs</th>\n",
       "      <td>0.001548</td>\n",
       "      <td>0.000180</td>\n",
       "      <td>0.116402</td>\n",
       "    </tr>\n",
       "    <tr>\n",
       "      <th>yew</th>\n",
       "      <td>0.003225</td>\n",
       "      <td>0.000360</td>\n",
       "      <td>0.111746</td>\n",
       "    </tr>\n",
       "    <tr>\n",
       "      <th>doctor</th>\n",
       "      <td>0.001806</td>\n",
       "      <td>0.000180</td>\n",
       "      <td>0.099773</td>\n",
       "    </tr>\n",
       "    <tr>\n",
       "      <th>yuh</th>\n",
       "      <td>0.003741</td>\n",
       "      <td>0.000360</td>\n",
       "      <td>0.096333</td>\n",
       "    </tr>\n",
       "    <tr>\n",
       "      <th>lol damn</th>\n",
       "      <td>0.001935</td>\n",
       "      <td>0.000180</td>\n",
       "      <td>0.093122</td>\n",
       "    </tr>\n",
       "    <tr>\n",
       "      <th>nope</th>\n",
       "      <td>0.010063</td>\n",
       "      <td>0.000901</td>\n",
       "      <td>0.089540</td>\n",
       "    </tr>\n",
       "    <tr>\n",
       "      <th>definantli</th>\n",
       "      <td>0.002193</td>\n",
       "      <td>0.000180</td>\n",
       "      <td>0.082166</td>\n",
       "    </tr>\n",
       "    <tr>\n",
       "      <th>describ</th>\n",
       "      <td>0.002193</td>\n",
       "      <td>0.000180</td>\n",
       "      <td>0.082166</td>\n",
       "    </tr>\n",
       "    <tr>\n",
       "      <th>bhut</th>\n",
       "      <td>0.002193</td>\n",
       "      <td>0.000180</td>\n",
       "      <td>0.082166</td>\n",
       "    </tr>\n",
       "    <tr>\n",
       "      <th>nahh</th>\n",
       "      <td>0.002322</td>\n",
       "      <td>0.000180</td>\n",
       "      <td>0.077602</td>\n",
       "    </tr>\n",
       "    <tr>\n",
       "      <th>timothi</th>\n",
       "      <td>0.002580</td>\n",
       "      <td>0.000180</td>\n",
       "      <td>0.069841</td>\n",
       "    </tr>\n",
       "    <tr>\n",
       "      <th>hmmm</th>\n",
       "      <td>0.002838</td>\n",
       "      <td>0.000180</td>\n",
       "      <td>0.063492</td>\n",
       "    </tr>\n",
       "    <tr>\n",
       "      <th>feel better</th>\n",
       "      <td>0.002838</td>\n",
       "      <td>0.000180</td>\n",
       "      <td>0.063492</td>\n",
       "    </tr>\n",
       "    <tr>\n",
       "      <th>what favorit</th>\n",
       "      <td>0.003225</td>\n",
       "      <td>0.000180</td>\n",
       "      <td>0.055873</td>\n",
       "    </tr>\n",
       "    <tr>\n",
       "      <th>choos</th>\n",
       "      <td>0.003225</td>\n",
       "      <td>0.000180</td>\n",
       "      <td>0.055873</td>\n",
       "    </tr>\n",
       "    <tr>\n",
       "      <th>umm</th>\n",
       "      <td>0.003741</td>\n",
       "      <td>0.000180</td>\n",
       "      <td>0.048166</td>\n",
       "    </tr>\n",
       "  </tbody>\n",
       "</table>\n",
       "<p>54917 rows × 3 columns</p>\n",
       "</div>"
      ],
      "text/plain": [
       "                Nonbullying  Bullying  Bullying_ratio\n",
       "token                                                \n",
       "kjfuck             0.000129  0.002343       18.158767\n",
       "fuck dude          0.000129  0.002343       18.158767\n",
       "whore whore        0.000129  0.002343       18.158767\n",
       "bull               0.000129  0.002343       18.158767\n",
       "fucker             0.000129  0.002343       18.158767\n",
       "kjfuck time        0.000129  0.002343       18.158767\n",
       "goddamn kjfuck     0.000129  0.002343       18.158767\n",
       "hood               0.000129  0.001982       15.365111\n",
       "think gay          0.000129  0.001982       15.365111\n",
       "nyc                0.000129  0.001982       15.365111\n",
       "shut fuck          0.000258  0.003965       15.365111\n",
       "employ             0.000129  0.001982       15.365111\n",
       "coincid            0.000129  0.001802       13.968283\n",
       "lift               0.000129  0.001802       13.968283\n",
       "embrac             0.000129  0.001802       13.968283\n",
       "shit fuck          0.000129  0.001802       13.968283\n",
       "epic fail          0.000129  0.001802       13.968283\n",
       "dude dont          0.000129  0.001802       13.968283\n",
       "fuck fuck          0.000516  0.006848       13.269868\n",
       "vagina             0.000129  0.001622       12.571454\n",
       "nye                0.000129  0.001622       12.571454\n",
       "razor              0.000129  0.001622       12.571454\n",
       "fuck face          0.000129  0.001622       12.571454\n",
       "lulz lulz          0.000129  0.001622       12.571454\n",
       "fuck god           0.000129  0.001622       12.571454\n",
       "upgrad fuck        0.000129  0.001622       12.571454\n",
       "lame as            0.000129  0.001622       12.571454\n",
       "choke              0.000258  0.003064       11.873040\n",
       "stop fuck          0.000129  0.001442       11.174626\n",
       "insult             0.000129  0.001442       11.174626\n",
       "...                     ...       ...             ...\n",
       "rite               0.001290  0.000180        0.139683\n",
       "elf                0.001290  0.000180        0.139683\n",
       "stack              0.001419  0.000180        0.126984\n",
       "but think          0.001419  0.000180        0.126984\n",
       "not hate           0.001419  0.000180        0.126984\n",
       "nahhh              0.001419  0.000180        0.126984\n",
       "cream              0.001548  0.000180        0.116402\n",
       "what best          0.001548  0.000180        0.116402\n",
       "door               0.001548  0.000180        0.116402\n",
       "physic             0.001548  0.000180        0.116402\n",
       "yes                0.001548  0.000180        0.116402\n",
       "orang              0.001548  0.000180        0.116402\n",
       "good luck          0.001548  0.000180        0.116402\n",
       "ate                0.001548  0.000180        0.116402\n",
       "nurs               0.001548  0.000180        0.116402\n",
       "yew                0.003225  0.000360        0.111746\n",
       "doctor             0.001806  0.000180        0.099773\n",
       "yuh                0.003741  0.000360        0.096333\n",
       "lol damn           0.001935  0.000180        0.093122\n",
       "nope               0.010063  0.000901        0.089540\n",
       "definantli         0.002193  0.000180        0.082166\n",
       "describ            0.002193  0.000180        0.082166\n",
       "bhut               0.002193  0.000180        0.082166\n",
       "nahh               0.002322  0.000180        0.077602\n",
       "timothi            0.002580  0.000180        0.069841\n",
       "hmmm               0.002838  0.000180        0.063492\n",
       "feel better        0.002838  0.000180        0.063492\n",
       "what favorit       0.003225  0.000180        0.055873\n",
       "choos              0.003225  0.000180        0.055873\n",
       "umm                0.003741  0.000180        0.048166\n",
       "\n",
       "[54917 rows x 3 columns]"
      ]
     },
     "execution_count": 82,
     "metadata": {},
     "output_type": "execute_result"
    }
   ],
   "source": [
    "# examine the DataFrame sorted by spam_ratio\n",
    "# note: use sort() instead of sort_values() for pandas 0.16.2 and earlier\n",
    "tokens.sort_values('Bullying_ratio', ascending=False)"
   ]
  },
  {
   "cell_type": "code",
   "execution_count": 83,
   "metadata": {},
   "outputs": [
    {
     "data": {
      "text/plain": [
       "0.9977344695311896"
      ]
     },
     "execution_count": 83,
     "metadata": {},
     "output_type": "execute_result"
    }
   ],
   "source": [
    "# look up the Bullying_ratio for a given token\n",
    "tokens.loc['rape', 'Bullying_ratio']"
   ]
  },
  {
   "cell_type": "code",
   "execution_count": 84,
   "metadata": {},
   "outputs": [],
   "source": [
    "sample_test = [\"I will rape you\"]"
   ]
  },
  {
   "cell_type": "code",
   "execution_count": 85,
   "metadata": {},
   "outputs": [
    {
     "name": "stdout",
     "output_type": "stream",
     "text": [
      "  (0, 38628)\t1\n",
      "  (0, 52470)\t1\n",
      "  (0, 54397)\t1\n"
     ]
    }
   ],
   "source": [
    "sample_test_dtm = vect.transform(sample_test)\n",
    "print(sample_test_dtm)"
   ]
  },
  {
   "cell_type": "code",
   "execution_count": 86,
   "metadata": {},
   "outputs": [
    {
     "name": "stdout",
     "output_type": "stream",
     "text": [
      "anagram\n"
     ]
    }
   ],
   "source": [
    "print(X_train_tokens[1111])"
   ]
  },
  {
   "cell_type": "code",
   "execution_count": 87,
   "metadata": {},
   "outputs": [],
   "source": [
    "sample_pred_nb = nb.predict(sample_test_dtm)\n",
    "sample_pred_lr = lr.predict(sample_test_dtm)\n",
    "sample_pred_kn = kn.predict(sample_test_dtm)\n",
    "sample_pred_dc = dc.predict(sample_test_dtm)\n",
    "sample_pred_svl = svl.predict(sample_test_dtm)\n",
    "sample_pred_sv = sv.predict(sample_test_dtm)"
   ]
  },
  {
   "cell_type": "code",
   "execution_count": 88,
   "metadata": {},
   "outputs": [
    {
     "name": "stdout",
     "output_type": "stream",
     "text": [
      "naive bayes predicted:            [0]\n",
      "logistic regression predicted:    [0]\n",
      "k-nearest neighbours predicted:   [0]\n",
      "decision tree predicted:          [0]\n",
      "linear support vector predicted:  [0]\n",
      "rbf support vector predicted:     [0]\n"
     ]
    }
   ],
   "source": [
    "print(\"naive bayes predicted:           \",sample_pred_nb)\n",
    "print(\"logistic regression predicted:   \",sample_pred_lr)\n",
    "print(\"k-nearest neighbours predicted:  \",sample_pred_kn)\n",
    "print(\"decision tree predicted:         \",sample_pred_dc)\n",
    "print(\"linear support vector predicted: \",sample_pred_svl)\n",
    "print(\"rbf support vector predicted:    \",sample_pred_sv)"
   ]
  },
  {
   "cell_type": "code",
   "execution_count": 89,
   "metadata": {},
   "outputs": [
    {
     "name": "stderr",
     "output_type": "stream",
     "text": [
      "Using TensorFlow backend.\n"
     ]
    },
    {
     "name": "stdout",
     "output_type": "stream",
     "text": [
      "You have TensorFlow version 1.13.1\n"
     ]
    }
   ],
   "source": [
    "#Deep Learning Part\n",
    "import itertools\n",
    "import os\n",
    "\n",
    "%matplotlib inline\n",
    "import matplotlib.pyplot as plt\n",
    "import numpy as np\n",
    "import pandas as pd\n",
    "import tensorflow as tf\n",
    "\n",
    "from sklearn.preprocessing import LabelBinarizer, LabelEncoder\n",
    "from sklearn.metrics import confusion_matrix\n",
    "\n",
    "from tensorflow import keras\n",
    "from keras.models import Sequential\n",
    "from keras.layers import Dense, Activation, Dropout\n",
    "from keras.preprocessing import text, sequence\n",
    "from keras import utils\n",
    "\n",
    "# This code was tested with TensorFlow v1.4\n",
    "print(\"You have TensorFlow version\", tf.__version__)"
   ]
  },
  {
   "cell_type": "code",
   "execution_count": 90,
   "metadata": {},
   "outputs": [
    {
     "name": "stdout",
     "output_type": "stream",
     "text": [
      "Train size: 15200\n",
      "Test size: 3801\n"
     ]
    }
   ],
   "source": [
    "data = pd.read_csv(\"data/hhh.csv\", encoding=\"ISO-8859-1\")\n",
    "train_size = int(len(data) * .8)\n",
    "print (\"Train size: %d\" % train_size)\n",
    "print (\"Test size: %d\" % (len(data) - train_size))"
   ]
  },
  {
   "cell_type": "code",
   "execution_count": 91,
   "metadata": {},
   "outputs": [],
   "source": [
    "train_posts = data['post'][:train_size]\n",
    "train_tags = data['tags'][:train_size]\n",
    "\n",
    "test_posts = data['post'][train_size:]\n",
    "test_tags = data['tags'][train_size:]"
   ]
  },
  {
   "cell_type": "code",
   "execution_count": 92,
   "metadata": {},
   "outputs": [],
   "source": [
    "max_words = 1000\n",
    "tokenize = text.Tokenizer(num_words=max_words, char_level=False)"
   ]
  },
  {
   "cell_type": "code",
   "execution_count": 93,
   "metadata": {},
   "outputs": [],
   "source": [
    "tokenize.fit_on_texts(train_posts) \n",
    "x_train = tokenize.texts_to_matrix(train_posts)\n",
    "x_test = tokenize.texts_to_matrix(test_posts)"
   ]
  },
  {
   "cell_type": "code",
   "execution_count": 94,
   "metadata": {},
   "outputs": [],
   "source": [
    "encoder = LabelEncoder()\n",
    "encoder.fit(train_tags)\n",
    "y_train = encoder.transform(train_tags)\n",
    "y_test = encoder.transform(test_tags)"
   ]
  },
  {
   "cell_type": "code",
   "execution_count": 95,
   "metadata": {},
   "outputs": [],
   "source": [
    "num_classes = np.max(y_train) + 1\n",
    "y_train = utils.to_categorical(y_train, num_classes)\n",
    "y_test = utils.to_categorical(y_test, num_classes)"
   ]
  },
  {
   "cell_type": "code",
   "execution_count": 96,
   "metadata": {},
   "outputs": [
    {
     "name": "stdout",
     "output_type": "stream",
     "text": [
      "x_train shape: (15200, 1000)\n",
      "x_test shape: (3801, 1000)\n",
      "y_train shape: (15200, 2)\n",
      "y_test shape: (3801, 2)\n"
     ]
    }
   ],
   "source": [
    "print('x_train shape:', x_train.shape)\n",
    "print('x_test shape:', x_test.shape)\n",
    "print('y_train shape:', y_train.shape)\n",
    "print('y_test shape:', y_test.shape)"
   ]
  },
  {
   "cell_type": "code",
   "execution_count": 97,
   "metadata": {},
   "outputs": [
    {
     "name": "stdout",
     "output_type": "stream",
     "text": [
      "WARNING:tensorflow:From C:\\Users\\ayon_\\Anaconda3\\envs\\PythonCPU\\lib\\site-packages\\tensorflow\\python\\framework\\op_def_library.py:263: colocate_with (from tensorflow.python.framework.ops) is deprecated and will be removed in a future version.\n",
      "Instructions for updating:\n",
      "Colocations handled automatically by placer.\n",
      "WARNING:tensorflow:From C:\\Users\\ayon_\\Anaconda3\\envs\\PythonCPU\\lib\\site-packages\\keras\\backend\\tensorflow_backend.py:3445: calling dropout (from tensorflow.python.ops.nn_ops) with keep_prob is deprecated and will be removed in a future version.\n",
      "Instructions for updating:\n",
      "Please use `rate` instead of `keep_prob`. Rate should be set to `rate = 1 - keep_prob`.\n"
     ]
    }
   ],
   "source": [
    "batch_size = 32\n",
    "epochs = 2\n",
    "\n",
    "model = Sequential()\n",
    "model.add(Dense(512, input_shape=(max_words,)))\n",
    "model.add(Activation('relu'))\n",
    "model.add(Dropout(0.5))\n",
    "model.add(Dense(num_classes))\n",
    "model.add(Activation('softmax'))\n",
    "\n",
    "model.compile(loss='categorical_crossentropy',\n",
    "              optimizer='adam',\n",
    "              metrics=['accuracy'])"
   ]
  },
  {
   "cell_type": "code",
   "execution_count": 98,
   "metadata": {},
   "outputs": [
    {
     "name": "stdout",
     "output_type": "stream",
     "text": [
      "WARNING:tensorflow:From C:\\Users\\ayon_\\Anaconda3\\envs\\PythonCPU\\lib\\site-packages\\tensorflow\\python\\ops\\math_ops.py:3066: to_int32 (from tensorflow.python.ops.math_ops) is deprecated and will be removed in a future version.\n",
      "Instructions for updating:\n",
      "Use tf.cast instead.\n",
      "Train on 13680 samples, validate on 1520 samples\n",
      "Epoch 1/2\n",
      "13680/13680 [==============================] - ETA: 48:11 - loss: 0.7338 - acc: 0.31 - ETA: 12:03 - loss: 0.6985 - acc: 0.50 - ETA: 6:01 - loss: 0.6870 - acc: 0.5352 - ETA: 4:00 - loss: 0.6759 - acc: 0.578 - ETA: 3:00 - loss: 0.6708 - acc: 0.578 - ETA: 2:24 - loss: 0.6707 - acc: 0.579 - ETA: 1:59 - loss: 0.6845 - acc: 0.565 - ETA: 1:42 - loss: 0.6851 - acc: 0.565 - ETA: 1:29 - loss: 0.6847 - acc: 0.573 - ETA: 1:19 - loss: 0.6835 - acc: 0.575 - ETA: 1:11 - loss: 0.6848 - acc: 0.580 - ETA: 1:04 - loss: 0.6811 - acc: 0.589 - ETA: 1:00 - loss: 0.6810 - acc: 0.590 - ETA: 56s - loss: 0.6794 - acc: 0.592 - ETA: 53s - loss: 0.6787 - acc: 0.59 - ETA: 50s - loss: 0.6754 - acc: 0.60 - ETA: 47s - loss: 0.6746 - acc: 0.60 - ETA: 44s - loss: 0.6730 - acc: 0.61 - ETA: 41s - loss: 0.6710 - acc: 0.61 - ETA: 38s - loss: 0.6685 - acc: 0.61 - ETA: 36s - loss: 0.6658 - acc: 0.62 - ETA: 34s - loss: 0.6641 - acc: 0.62 - ETA: 32s - loss: 0.6597 - acc: 0.62 - ETA: 31s - loss: 0.6567 - acc: 0.63 - ETA: 29s - loss: 0.6562 - acc: 0.63 - ETA: 28s - loss: 0.6567 - acc: 0.63 - ETA: 27s - loss: 0.6566 - acc: 0.63 - ETA: 27s - loss: 0.6546 - acc: 0.63 - ETA: 26s - loss: 0.6525 - acc: 0.63 - ETA: 25s - loss: 0.6518 - acc: 0.63 - ETA: 24s - loss: 0.6499 - acc: 0.63 - ETA: 23s - loss: 0.6511 - acc: 0.63 - ETA: 22s - loss: 0.6505 - acc: 0.63 - ETA: 22s - loss: 0.6496 - acc: 0.63 - ETA: 21s - loss: 0.6489 - acc: 0.63 - ETA: 20s - loss: 0.6482 - acc: 0.63 - ETA: 19s - loss: 0.6467 - acc: 0.63 - ETA: 18s - loss: 0.6456 - acc: 0.64 - ETA: 18s - loss: 0.6452 - acc: 0.64 - ETA: 17s - loss: 0.6443 - acc: 0.64 - ETA: 17s - loss: 0.6437 - acc: 0.64 - ETA: 16s - loss: 0.6433 - acc: 0.64 - ETA: 15s - loss: 0.6429 - acc: 0.64 - ETA: 15s - loss: 0.6414 - acc: 0.64 - ETA: 14s - loss: 0.6402 - acc: 0.64 - ETA: 14s - loss: 0.6398 - acc: 0.64 - ETA: 13s - loss: 0.6377 - acc: 0.64 - ETA: 13s - loss: 0.6371 - acc: 0.64 - ETA: 13s - loss: 0.6351 - acc: 0.65 - ETA: 12s - loss: 0.6341 - acc: 0.65 - ETA: 12s - loss: 0.6329 - acc: 0.65 - ETA: 11s - loss: 0.6311 - acc: 0.65 - ETA: 11s - loss: 0.6312 - acc: 0.65 - ETA: 11s - loss: 0.6304 - acc: 0.65 - ETA: 10s - loss: 0.6304 - acc: 0.65 - ETA: 10s - loss: 0.6298 - acc: 0.65 - ETA: 10s - loss: 0.6279 - acc: 0.66 - ETA: 9s - loss: 0.6275 - acc: 0.6606 - ETA: 9s - loss: 0.6263 - acc: 0.661 - ETA: 9s - loss: 0.6258 - acc: 0.662 - ETA: 8s - loss: 0.6258 - acc: 0.662 - ETA: 8s - loss: 0.6260 - acc: 0.662 - ETA: 8s - loss: 0.6260 - acc: 0.662 - ETA: 8s - loss: 0.6256 - acc: 0.662 - ETA: 7s - loss: 0.6243 - acc: 0.664 - ETA: 7s - loss: 0.6252 - acc: 0.663 - ETA: 7s - loss: 0.6257 - acc: 0.662 - ETA: 7s - loss: 0.6253 - acc: 0.663 - ETA: 6s - loss: 0.6241 - acc: 0.664 - ETA: 6s - loss: 0.6234 - acc: 0.666 - ETA: 6s - loss: 0.6235 - acc: 0.665 - ETA: 6s - loss: 0.6239 - acc: 0.665 - ETA: 5s - loss: 0.6233 - acc: 0.666 - ETA: 5s - loss: 0.6225 - acc: 0.666 - ETA: 5s - loss: 0.6225 - acc: 0.666 - ETA: 5s - loss: 0.6224 - acc: 0.667 - ETA: 5s - loss: 0.6215 - acc: 0.668 - ETA: 5s - loss: 0.6210 - acc: 0.668 - ETA: 4s - loss: 0.6207 - acc: 0.668 - ETA: 4s - loss: 0.6201 - acc: 0.669 - ETA: 4s - loss: 0.6197 - acc: 0.670 - ETA: 4s - loss: 0.6186 - acc: 0.671 - ETA: 4s - loss: 0.6180 - acc: 0.671 - ETA: 4s - loss: 0.6171 - acc: 0.672 - ETA: 3s - loss: 0.6165 - acc: 0.673 - ETA: 3s - loss: 0.6162 - acc: 0.673 - ETA: 3s - loss: 0.6154 - acc: 0.674 - ETA: 3s - loss: 0.6158 - acc: 0.674 - ETA: 3s - loss: 0.6152 - acc: 0.674 - ETA: 3s - loss: 0.6150 - acc: 0.674 - ETA: 2s - loss: 0.6139 - acc: 0.676 - ETA: 2s - loss: 0.6135 - acc: 0.676 - ETA: 2s - loss: 0.6125 - acc: 0.677 - ETA: 2s - loss: 0.6118 - acc: 0.677 - ETA: 2s - loss: 0.6108 - acc: 0.678 - ETA: 2s - loss: 0.6107 - acc: 0.678 - ETA: 1s - loss: 0.6106 - acc: 0.678 - ETA: 1s - loss: 0.6097 - acc: 0.679 - ETA: 1s - loss: 0.6090 - acc: 0.679 - ETA: 1s - loss: 0.6081 - acc: 0.680 - ETA: 1s - loss: 0.6082 - acc: 0.680 - ETA: 1s - loss: 0.6080 - acc: 0.680 - ETA: 1s - loss: 0.6076 - acc: 0.680 - ETA: 1s - loss: 0.6076 - acc: 0.680 - ETA: 0s - loss: 0.6077 - acc: 0.680 - ETA: 0s - loss: 0.6075 - acc: 0.681 - ETA: 0s - loss: 0.6069 - acc: 0.681 - ETA: 0s - loss: 0.6060 - acc: 0.682 - ETA: 0s - loss: 0.6058 - acc: 0.682 - ETA: 0s - loss: 0.6058 - acc: 0.682 - ETA: 0s - loss: 0.6061 - acc: 0.681 - ETA: 0s - loss: 0.6052 - acc: 0.682 - ETA: 0s - loss: 0.6049 - acc: 0.682 - 14s 1ms/step - loss: 0.6044 - acc: 0.6830 - val_loss: 0.2219 - val_acc: 0.9809\n",
      "Epoch 2/2\n",
      "13680/13680 [==============================] - ETA: 7s - loss: 0.4441 - acc: 0.781 - ETA: 6s - loss: 0.4953 - acc: 0.731 - ETA: 6s - loss: 0.4991 - acc: 0.753 - ETA: 6s - loss: 0.4846 - acc: 0.762 - ETA: 5s - loss: 0.4899 - acc: 0.761 - ETA: 5s - loss: 0.4797 - acc: 0.764 - ETA: 5s - loss: 0.4729 - acc: 0.771 - ETA: 5s - loss: 0.4773 - acc: 0.772 - ETA: 6s - loss: 0.4831 - acc: 0.763 - ETA: 6s - loss: 0.4810 - acc: 0.767 - ETA: 6s - loss: 0.4829 - acc: 0.765 - ETA: 6s - loss: 0.4797 - acc: 0.767 - ETA: 6s - loss: 0.4821 - acc: 0.766 - ETA: 6s - loss: 0.4826 - acc: 0.764 - ETA: 6s - loss: 0.4823 - acc: 0.766 - ETA: 5s - loss: 0.4805 - acc: 0.771 - ETA: 5s - loss: 0.4813 - acc: 0.767 - ETA: 5s - loss: 0.4809 - acc: 0.768 - ETA: 5s - loss: 0.4793 - acc: 0.769 - ETA: 5s - loss: 0.4766 - acc: 0.773 - ETA: 5s - loss: 0.4764 - acc: 0.772 - ETA: 5s - loss: 0.4763 - acc: 0.772 - ETA: 5s - loss: 0.4748 - acc: 0.773 - ETA: 5s - loss: 0.4722 - acc: 0.777 - ETA: 5s - loss: 0.4730 - acc: 0.775 - ETA: 5s - loss: 0.4729 - acc: 0.775 - ETA: 5s - loss: 0.4710 - acc: 0.778 - ETA: 4s - loss: 0.4722 - acc: 0.777 - ETA: 4s - loss: 0.4730 - acc: 0.778 - ETA: 4s - loss: 0.4737 - acc: 0.776 - ETA: 4s - loss: 0.4748 - acc: 0.775 - ETA: 4s - loss: 0.4753 - acc: 0.776 - ETA: 4s - loss: 0.4757 - acc: 0.776 - ETA: 4s - loss: 0.4744 - acc: 0.778 - ETA: 4s - loss: 0.4757 - acc: 0.777 - ETA: 4s - loss: 0.4745 - acc: 0.777 - ETA: 4s - loss: 0.4747 - acc: 0.777 - ETA: 4s - loss: 0.4760 - acc: 0.775 - ETA: 4s - loss: 0.4748 - acc: 0.775 - ETA: 4s - loss: 0.4733 - acc: 0.777 - ETA: 4s - loss: 0.4750 - acc: 0.776 - ETA: 4s - loss: 0.4752 - acc: 0.775 - ETA: 3s - loss: 0.4739 - acc: 0.777 - ETA: 3s - loss: 0.4755 - acc: 0.775 - ETA: 3s - loss: 0.4763 - acc: 0.774 - ETA: 3s - loss: 0.4764 - acc: 0.775 - ETA: 3s - loss: 0.4755 - acc: 0.776 - ETA: 3s - loss: 0.4745 - acc: 0.777 - ETA: 3s - loss: 0.4753 - acc: 0.776 - ETA: 3s - loss: 0.4767 - acc: 0.774 - ETA: 3s - loss: 0.4762 - acc: 0.775 - ETA: 3s - loss: 0.4749 - acc: 0.776 - ETA: 3s - loss: 0.4742 - acc: 0.776 - ETA: 3s - loss: 0.4735 - acc: 0.777 - ETA: 3s - loss: 0.4743 - acc: 0.777 - ETA: 3s - loss: 0.4729 - acc: 0.778 - ETA: 3s - loss: 0.4736 - acc: 0.777 - ETA: 3s - loss: 0.4728 - acc: 0.778 - ETA: 2s - loss: 0.4723 - acc: 0.778 - ETA: 2s - loss: 0.4728 - acc: 0.779 - ETA: 2s - loss: 0.4712 - acc: 0.780 - ETA: 2s - loss: 0.4711 - acc: 0.781 - ETA: 2s - loss: 0.4716 - acc: 0.779 - ETA: 2s - loss: 0.4710 - acc: 0.780 - ETA: 2s - loss: 0.4705 - acc: 0.780 - ETA: 2s - loss: 0.4694 - acc: 0.781 - ETA: 2s - loss: 0.4688 - acc: 0.782 - ETA: 2s - loss: 0.4677 - acc: 0.783 - ETA: 2s - loss: 0.4675 - acc: 0.783 - ETA: 2s - loss: 0.4679 - acc: 0.783 - ETA: 2s - loss: 0.4683 - acc: 0.784 - ETA: 2s - loss: 0.4672 - acc: 0.784 - ETA: 2s - loss: 0.4674 - acc: 0.784 - ETA: 2s - loss: 0.4672 - acc: 0.784 - ETA: 2s - loss: 0.4667 - acc: 0.784 - ETA: 1s - loss: 0.4665 - acc: 0.784 - ETA: 1s - loss: 0.4665 - acc: 0.784 - ETA: 1s - loss: 0.4654 - acc: 0.785 - ETA: 1s - loss: 0.4645 - acc: 0.785 - ETA: 1s - loss: 0.4644 - acc: 0.785 - ETA: 1s - loss: 0.4645 - acc: 0.785 - ETA: 1s - loss: 0.4656 - acc: 0.784 - ETA: 1s - loss: 0.4650 - acc: 0.784 - ETA: 1s - loss: 0.4640 - acc: 0.785 - ETA: 1s - loss: 0.4634 - acc: 0.785 - ETA: 1s - loss: 0.4635 - acc: 0.784 - ETA: 1s - loss: 0.4632 - acc: 0.785 - ETA: 1s - loss: 0.4633 - acc: 0.785 - ETA: 1s - loss: 0.4618 - acc: 0.786 - ETA: 1s - loss: 0.4618 - acc: 0.785 - ETA: 1s - loss: 0.4611 - acc: 0.786 - ETA: 1s - loss: 0.4611 - acc: 0.786 - ETA: 0s - loss: 0.4612 - acc: 0.786 - ETA: 0s - loss: 0.4617 - acc: 0.786 - ETA: 0s - loss: 0.4619 - acc: 0.786 - ETA: 0s - loss: 0.4614 - acc: 0.786 - ETA: 0s - loss: 0.4615 - acc: 0.786 - ETA: 0s - loss: 0.4610 - acc: 0.786 - ETA: 0s - loss: 0.4614 - acc: 0.786 - ETA: 0s - loss: 0.4616 - acc: 0.786 - ETA: 0s - loss: 0.4621 - acc: 0.785 - ETA: 0s - loss: 0.4626 - acc: 0.785 - ETA: 0s - loss: 0.4623 - acc: 0.786 - ETA: 0s - loss: 0.4620 - acc: 0.786 - ETA: 0s - loss: 0.4612 - acc: 0.787 - ETA: 0s - loss: 0.4605 - acc: 0.788 - ETA: 0s - loss: 0.4602 - acc: 0.788 - ETA: 0s - loss: 0.4603 - acc: 0.788 - ETA: 0s - loss: 0.4608 - acc: 0.787 - 6s 471us/step - loss: 0.4608 - acc: 0.7875 - val_loss: 0.1374 - val_acc: 0.9809\n"
     ]
    }
   ],
   "source": [
    "history = model.fit(x_train, y_train,\n",
    "                    batch_size=batch_size,\n",
    "                    epochs=epochs,\n",
    "                    verbose=1,\n",
    "                    validation_split=0.1)"
   ]
  },
  {
   "cell_type": "code",
   "execution_count": 99,
   "metadata": {},
   "outputs": [
    {
     "name": "stdout",
     "output_type": "stream",
     "text": [
      "3801/3801 [==============================] - ETA:  - ETA:  - ETA:  - ETA:  - ETA:  - ETA:  - 0s 83us/step\n"
     ]
    }
   ],
   "source": [
    "score = model.evaluate(x_test, y_test, batch_size=batch_size, verbose=1)"
   ]
  },
  {
   "cell_type": "code",
   "execution_count": 100,
   "metadata": {},
   "outputs": [
    {
     "name": "stdout",
     "output_type": "stream",
     "text": [
      "Test accuracy: 0.922388844899647\n"
     ]
    }
   ],
   "source": [
    "print('Test accuracy:', score[1])"
   ]
  },
  {
   "cell_type": "code",
   "execution_count": 101,
   "metadata": {},
   "outputs": [],
   "source": [
    "y_softmax = model.predict(x_test)\n",
    "\n",
    "y_test_1d = []\n",
    "y_pred_1d = []\n",
    "\n",
    "for i in range(len(y_test)):\n",
    "    probs = y_test[i]\n",
    "    index_arr = np.nonzero(probs)\n",
    "    one_hot_index = index_arr[0].item(0)\n",
    "    y_test_1d.append(one_hot_index)\n",
    "\n",
    "for i in range(0, len(y_softmax)):\n",
    "    probs = y_softmax[i]\n",
    "    predicted_index = np.argmax(probs)\n",
    "    y_pred_1d.append(predicted_index)"
   ]
  },
  {
   "cell_type": "code",
   "execution_count": 102,
   "metadata": {},
   "outputs": [],
   "source": [
    "def plot_confusion_matrix(cm, classes,\n",
    "                          title='Confusion matrix',\n",
    "                          cmap=plt.cm.Blues):\n",
    "    \"\"\"\n",
    "    This function prints and plots the confusion matrix.\n",
    "    Normalization can be applied by setting `normalize=True`.\n",
    "    \"\"\"\n",
    "\n",
    "    cm = cm.astype('float') / cm.sum(axis=1)[:, np.newaxis]\n",
    "\n",
    "    plt.imshow(cm, interpolation='nearest', cmap=cmap)\n",
    "    plt.title(title, fontsize=30)\n",
    "    plt.colorbar()\n",
    "    tick_marks = np.arange(len(classes))\n",
    "    plt.xticks(tick_marks, classes, rotation=45, fontsize=22)\n",
    "    plt.yticks(tick_marks, classes, fontsize=22)\n",
    "\n",
    "    fmt = '.2f'\n",
    "    thresh = cm.max() / 2.\n",
    "    for i, j in itertools.product(range(cm.shape[0]), range(cm.shape[1])):\n",
    "        plt.text(j, i, format(cm[i, j], fmt),\n",
    "                 horizontalalignment=\"center\",\n",
    "                 color=\"white\" if cm[i, j] > thresh else \"black\")\n",
    "\n",
    "    plt.ylabel('True label', fontsize=25)\n",
    "    plt.xlabel('Predicted label', fontsize=25)"
   ]
  },
  {
   "cell_type": "code",
   "execution_count": 103,
   "metadata": {},
   "outputs": [
    {
     "data": {
      "image/png": "[encoded data removed]",
      "text/plain": [
       "<Figure size 1728x1440 with 2 Axes>"
      ]
     },
     "metadata": {
      "needs_background": "light"
     },
     "output_type": "display_data"
    }
   ],
   "source": [
    "text_labels = encoder.classes_ \n",
    "cnf_matrix = confusion_matrix(y_test_1d, y_pred_1d)\n",
    "plt.figure(figsize=(24,20))\n",
    "plot_confusion_matrix(cnf_matrix, classes=text_labels, title=\"Confusion matrix\")\n",
    "plt.show()"
   ]
  },
  {
   "cell_type": "code",
   "execution_count": 104,
   "metadata": {},
   "outputs": [
    {
     "ename": "IndexError",
     "evalue": "tuple index out of range",
     "output_type": "error",
     "traceback": [
      "\u001b[1;31m---------------------------------------------------------------------------\u001b[0m",
      "\u001b[1;31mIndexError\u001b[0m                                Traceback (most recent call last)",
      "\u001b[1;32m<ipython-input-104-9ba660f525ce>\u001b[0m in \u001b[0;36m<module>\u001b[1;34m\u001b[0m\n\u001b[0;32m     30\u001b[0m \u001b[1;33m\u001b[0m\u001b[0m\n\u001b[0;32m     31\u001b[0m \u001b[1;33m\u001b[0m\u001b[0m\n\u001b[1;32m---> 32\u001b[1;33m \u001b[0msequence_length\u001b[0m \u001b[1;33m=\u001b[0m \u001b[0mx\u001b[0m\u001b[1;33m.\u001b[0m\u001b[0mshape\u001b[0m\u001b[1;33m[\u001b[0m\u001b[1;36m1\u001b[0m\u001b[1;33m]\u001b[0m \u001b[1;31m# 56\u001b[0m\u001b[1;33m\u001b[0m\u001b[1;33m\u001b[0m\u001b[0m\n\u001b[0m\u001b[0;32m     33\u001b[0m \u001b[0mvocabulary_size\u001b[0m \u001b[1;33m=\u001b[0m \u001b[0mlen\u001b[0m\u001b[1;33m(\u001b[0m\u001b[0mvocabulary_inv\u001b[0m\u001b[1;33m)\u001b[0m \u001b[1;31m# 18765\u001b[0m\u001b[1;33m\u001b[0m\u001b[1;33m\u001b[0m\u001b[0m\n\u001b[0;32m     34\u001b[0m \u001b[0membedding_dim\u001b[0m \u001b[1;33m=\u001b[0m \u001b[1;36m256\u001b[0m\u001b[1;33m\u001b[0m\u001b[1;33m\u001b[0m\u001b[0m\n",
      "\u001b[1;31mIndexError\u001b[0m: tuple index out of range"
     ]
    }
   ],
   "source": [
    "from keras.layers import Input, Dense, Embedding, Conv2D, MaxPool2D\n",
    "from keras.layers import Reshape, Flatten, Dropout, Concatenate\n",
    "from keras.callbacks import ModelCheckpoint\n",
    "from keras.optimizers import Adam\n",
    "from keras.models import Model\n",
    "from sklearn.model_selection import train_test_split\n",
    "import pandas as pd\n",
    "#from data_helpers import load_data\n",
    "\n",
    "tweet = pd.read_csv(\"data/h.csv\", encoding=\"ISO-8859-1\")\n",
    "tweet.rename(columns = {\"annotation__label__-\": \"label\", \"content\": \"tweet\"}, inplace = True)\n",
    "tweet.drop(['annotation__notes'], axis = 1, inplace = True)\n",
    "tweet.drop(['extras'], axis = 1, inplace = True)\n",
    "x = tweet.tweet\n",
    "y = tweet.label\n",
    "#print('Loading data')\n",
    "#x, y, vocabulary, vocabulary_inv = load_data()\n",
    "\n",
    "# x.shape -> (10662, 56)\n",
    "# y.shape -> (10662, 2)\n",
    "# len(vocabulary) -> 18765\n",
    "# len(vocabulary_inv) -> 18765\n",
    "\n",
    "X_train, X_test, y_train, y_test = train_test_split( x, y, test_size=0.2, random_state=42)\n",
    "\n",
    "# X_train.shape -> (8529, 56)\n",
    "# y_train.shape -> (8529, 2)\n",
    "# X_test.shape -> (2133, 56)\n",
    "# y_test.shape -> (2133, 2)\n",
    "\n",
    "\n",
    "sequence_length = x.shape[1] # 56\n",
    "vocabulary_size = len(vocabulary_inv) # 18765\n",
    "embedding_dim = 256\n",
    "filter_sizes = [3,4,5]\n",
    "num_filters = 512\n",
    "drop = 0.5\n",
    "\n",
    "epochs = 100\n",
    "batch_size = 30\n",
    "\n",
    "# this returns a tensor\n",
    "print(\"Creating Model...\")\n",
    "inputs = Input(shape=(sequence_length,), dtype='int32')\n",
    "embedding = Embedding(input_dim=vocabulary_size, output_dim=embedding_dim, input_length=sequence_length)(inputs)\n",
    "reshape = Reshape((sequence_length,embedding_dim,1))(embedding)\n",
    "\n",
    "conv_0 = Conv2D(num_filters, kernel_size=(filter_sizes[0], embedding_dim), padding='valid', kernel_initializer='normal', activation='relu')(reshape)\n",
    "conv_1 = Conv2D(num_filters, kernel_size=(filter_sizes[1], embedding_dim), padding='valid', kernel_initializer='normal', activation='relu')(reshape)\n",
    "conv_2 = Conv2D(num_filters, kernel_size=(filter_sizes[2], embedding_dim), padding='valid', kernel_initializer='normal', activation='relu')(reshape)\n",
    "\n",
    "maxpool_0 = MaxPool2D(pool_size=(sequence_length - filter_sizes[0] + 1, 1), strides=(1,1), padding='valid')(conv_0)\n",
    "maxpool_1 = MaxPool2D(pool_size=(sequence_length - filter_sizes[1] + 1, 1), strides=(1,1), padding='valid')(conv_1)\n",
    "maxpool_2 = MaxPool2D(pool_size=(sequence_length - filter_sizes[2] + 1, 1), strides=(1,1), padding='valid')(conv_2)\n",
    "\n",
    "concatenated_tensor = Concatenate(axis=1)([maxpool_0, maxpool_1, maxpool_2])\n",
    "flatten = Flatten()(concatenated_tensor)\n",
    "dropout = Dropout(drop)(flatten)\n",
    "output = Dense(units=2, activation='softmax')(dropout)\n",
    "\n",
    "# this creates a model that includes\n",
    "model = Model(inputs=inputs, outputs=output)\n",
    "\n",
    "checkpoint = ModelCheckpoint('weights.{epoch:03d}-{val_acc:.4f}.hdf5', monitor='val_acc', verbose=1, save_best_only=True, mode='auto')\n",
    "adam = Adam(lr=1e-4, beta_1=0.9, beta_2=0.999, epsilon=1e-08, decay=0.0)\n",
    "\n",
    "model.compile(optimizer=adam, loss='binary_crossentropy', metrics=['accuracy'])\n",
    "print(\"Traning Model...\")\n",
    "model.fit(X_train, y_train, batch_size=batch_size, epochs=epochs, verbose=1, callbacks=[checkpoint], validation_data=(X_test, y_test))  # starts training\n"
   ]
  },
  {
   "cell_type": "code",
   "execution_count": null,
   "metadata": {},
   "outputs": [],
   "source": []
  }
 ],
 "metadata": {
  "kernelspec": {
   "display_name": "Python 3",
   "language": "python",
   "name": "python3"
  },
  "language_info": {
   "codemirror_mode": {
    "name": "ipython",
    "version": 3
   },
   "file_extension": ".py",
   "mimetype": "text/x-python",
   "name": "python",
   "nbconvert_exporter": "python",
   "pygments_lexer": "ipython3",
   "version": "3.7.3"
  }
 },
 "nbformat": 4,
 "nbformat_minor": 1
}
